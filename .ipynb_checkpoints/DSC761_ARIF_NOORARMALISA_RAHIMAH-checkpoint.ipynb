{
 "cells": [
  {
   "cell_type": "markdown",
   "id": "M3N5ts86tqxu",
   "metadata": {
    "id": "M3N5ts86tqxu"
   },
   "source": [
    "# **Group Information**"
   ]
  },
  {
   "cell_type": "markdown",
   "id": "Dg_W3S-NtzcF",
   "metadata": {
    "id": "Dg_W3S-NtzcF"
   },
   "source": [
    "\n",
    "1.   MUHAMMAD ARIF BIN MOHAMAD AMIR\t2022206726\n",
    "2.   NOOR ARMALISA BINTI ZURAIMI\t2022830378\n",
    "3.   RAHIMAH HAZIRAH BINTI ROSLI\t2022424226"
   ]
  },
  {
   "cell_type": "markdown",
   "id": "V1JMP4Zpu7it",
   "metadata": {
    "id": "V1JMP4Zpu7it"
   },
   "source": [
    "# **Methodlogy and Work Division**"
   ]
  },
  {
   "cell_type": "markdown",
   "id": "z1DEbhlYwmhN",
   "metadata": {
    "id": "z1DEbhlYwmhN"
   },
   "source": [
    "## **Methodlogy**"
   ]
  },
  {
   "cell_type": "markdown",
   "id": "c6qIyc6Q6bn5",
   "metadata": {
    "id": "c6qIyc6Q6bn5"
   },
   "source": []
  },
  {
   "cell_type": "markdown",
   "id": "Uo2imMG7vBMC",
   "metadata": {
    "id": "Uo2imMG7vBMC"
   },
   "source": [
    "\n",
    "## **Work Division**\n",
    "\n",
    "\n",
    "1.   EDA (Lisa, Arif, Rahimah)\n",
    "2.   Data Preparation (Arif, Lisa)\n",
    "3.   Machine Learning Model (Arif, Lisa, Rahimah)\n",
    "4.   Deploy Model (Arif)\n",
    "5.   Report (Arif, Lisa, Rahimah)\n",
    "\n",
    "\n",
    "\n"
   ]
  },
  {
   "cell_type": "markdown",
   "id": "wSVQPs-aLaxs",
   "metadata": {
    "id": "wSVQPs-aLaxs"
   },
   "source": [
    "# **1) Import Library**"
   ]
  },
  {
   "cell_type": "markdown",
   "id": "-RKy_Ka1nFwx",
   "metadata": {
    "id": "-RKy_Ka1nFwx"
   },
   "source": [
    "To start running this jupyter file, make sure you install the required library by running below command:\n",
    "\n",
    "pip install pandas\\\n",
    "pip install matplotlib\\\n",
    "pip install numpy\\\n",
    "pip install scikit-learn\\\n",
    "pip install seaborn\\\n",
    "pip install plotly\\\n",
    "pip install chart-studio"
   ]
  },
  {
   "cell_type": "code",
   "execution_count": null,
   "id": "zs2QcGOrLgj1",
   "metadata": {
    "colab": {
     "base_uri": "https://localhost:8080/",
     "height": 425
    },
    "id": "zs2QcGOrLgj1",
    "outputId": "0820b019-67d0-4698-f738-77055280f141"
   },
   "outputs": [],
   "source": [
    "#Import Library\n",
    "\n",
    "import pandas as pd\n",
    "import matplotlib\n",
    "import numpy as np\n",
    "import sklearn\n",
    "import seaborn as sns\n",
    "\n",
    "\n",
    "#graph & plot library\n",
    "import plotly.graph_objects as go\n",
    "import plotly.offline as pyoff\n",
    "import chart_studio.plotly as py\n",
    "import matplotlib.pyplot as plt\n",
    "import plotly.express as px\n",
    "\n",
    "from sklearn.utils import resample\n",
    "from sklearn.preprocessing import StandardScaler, LabelEncoder\n",
    "\n",
    "print(\"Pandas version:\", pd.__version__)\n",
    "print(\"Matplotlib version:\", matplotlib.__version__)\n",
    "print(\"NumPy version:\", np.__version__)\n",
    "print(\"Scikit-learn version:\", sklearn.__version__)\n",
    "print(\"Seaborn version:\", sns.__version__)"
   ]
  },
  {
   "cell_type": "markdown",
   "id": "EqELO8Y-M47k",
   "metadata": {
    "id": "EqELO8Y-M47k"
   },
   "source": [
    "# **2) Read Dataset**"
   ]
  },
  {
   "cell_type": "code",
   "execution_count": null,
   "id": "rVyap9zwM8G6",
   "metadata": {
    "id": "rVyap9zwM8G6"
   },
   "outputs": [],
   "source": [
    "# Read CSV file\n",
    "df = pd.read_csv('diabetes_2_missing_values.csv')\n",
    "df.head()"
   ]
  },
  {
   "cell_type": "markdown",
   "id": "2kemdB1LtGPP",
   "metadata": {
    "id": "2kemdB1LtGPP"
   },
   "source": [
    "**Explanation**\\\n",
    "The code reads a CSV file named 'diabetes_2_missing_values.csv' into a pandas DataFrame called 'df' and then displays the first few rows of the DataFrame using the 'head()' function."
   ]
  },
  {
   "cell_type": "markdown",
   "id": "3AP4jduKMtaI",
   "metadata": {
    "id": "3AP4jduKMtaI"
   },
   "source": [
    "# **3) Explotary Data Analysis (EDA)**"
   ]
  },
  {
   "cell_type": "markdown",
   "id": "v_PABcsBNBeY",
   "metadata": {
    "id": "v_PABcsBNBeY"
   },
   "source": [
    "## 3.1) Check Data Structure"
   ]
  },
  {
   "cell_type": "code",
   "execution_count": null,
   "id": "jkq5gx9fNGpC",
   "metadata": {
    "id": "jkq5gx9fNGpC"
   },
   "outputs": [],
   "source": [
    "# Checking Data structure\n",
    "df.dtypes"
   ]
  },
  {
   "cell_type": "markdown",
   "id": "xH-IFrf7tU62",
   "metadata": {
    "id": "xH-IFrf7tU62"
   },
   "source": [
    "**Explanation**\n",
    "\n",
    "***df.dtypes*** is to check the data types of the columns in the DataFrame 'df'. When a DataFrame is created from a CSV file, pandas automatically infers the data types for each column based on the content of the CSV file. This information is useful to understand how pandas has interpreted the data and to ensure that the data types are appropriate for further analysis or processing."
   ]
  },
  {
   "cell_type": "code",
   "execution_count": null,
   "id": "6ca8f90e",
   "metadata": {
    "id": "6ca8f90e",
    "outputId": "544d5585-dccd-4831-ee2c-94a1be93e6b7"
   },
   "outputs": [
    {
     "name": "stdout",
     "output_type": "stream",
     "text": [
      "<class 'pandas.core.frame.DataFrame'>\n",
      "RangeIndex: 253680 entries, 0 to 253679\n",
      "Data columns (total 22 columns):\n",
      " #   Column                Non-Null Count   Dtype  \n",
      "---  ------                --------------   -----  \n",
      " 0   Diabetes_binary       253680 non-null  int64  \n",
      " 1   HighBP                253680 non-null  int64  \n",
      " 2   HighChol              253680 non-null  int64  \n",
      " 3   CholCheck             253680 non-null  int64  \n",
      " 4   BMI                   253654 non-null  float64\n",
      " 5   Smoker                253597 non-null  float64\n",
      " 6   Stroke                253680 non-null  int64  \n",
      " 7   HeartDiseaseorAttack  253680 non-null  int64  \n",
      " 8   PhysActivity          253680 non-null  int64  \n",
      " 9   Fruits                253680 non-null  int64  \n",
      " 10  Veggies               253680 non-null  int64  \n",
      " 11  HvyAlcoholConsump     253680 non-null  int64  \n",
      " 12  AnyHealthcare         253680 non-null  int64  \n",
      " 13  NoDocbcCost           253680 non-null  int64  \n",
      " 14  GenHlth               253680 non-null  int64  \n",
      " 15  MentHlth              253680 non-null  int64  \n",
      " 16  PhysHlth              253680 non-null  int64  \n",
      " 17  DiffWalk              253680 non-null  int64  \n",
      " 18  Sex                   253680 non-null  int64  \n",
      " 19  Age                   253485 non-null  float64\n",
      " 20  Education             253680 non-null  int64  \n",
      " 21  Income                253680 non-null  int64  \n",
      "dtypes: float64(3), int64(19)\n",
      "memory usage: 42.6 MB\n"
     ]
    }
   ],
   "source": [
    "df.info()"
   ]
  },
  {
   "cell_type": "markdown",
   "id": "r1L1a0mkuZ5t",
   "metadata": {
    "id": "r1L1a0mkuZ5t"
   },
   "source": [
    "**Explaination**\n",
    "\n",
    "***df.info()*** provides a summary of the DataFrame 'df' by showing the column names, non-null counts, and data types of each column. It helps to understand the data's structure, identify missing values, and get an overview of the data types in the DataFrame."
   ]
  },
  {
   "cell_type": "code",
   "execution_count": null,
   "id": "504b40fb",
   "metadata": {
    "id": "504b40fb",
    "outputId": "240e16e8-c4ec-4308-c1eb-8d73c11988ae"
   },
   "outputs": [
    {
     "data": {
      "text/plain": [
       "Diabetes_binary         0\n",
       "HighBP                  0\n",
       "Education               0\n",
       "Age                     0\n",
       "Sex                     0\n",
       "DiffWalk                0\n",
       "PhysHlth                0\n",
       "MentHlth                0\n",
       "GenHlth                 0\n",
       "NoDocbcCost             0\n",
       "AnyHealthcare           0\n",
       "HvyAlcoholConsump       0\n",
       "Veggies                 0\n",
       "Fruits                  0\n",
       "PhysActivity            0\n",
       "HeartDiseaseorAttack    0\n",
       "Stroke                  0\n",
       "Smoker                  0\n",
       "BMI                     0\n",
       "CholCheck               0\n",
       "HighChol                0\n",
       "Income                  0\n",
       "dtype: int64"
      ]
     },
     "execution_count": 7,
     "metadata": {},
     "output_type": "execute_result"
    }
   ],
   "source": [
    "df.isnull().sum().sort_values(ascending=False)"
   ]
  },
  {
   "cell_type": "markdown",
   "id": "DBtdxYNMuynN",
   "metadata": {
    "id": "DBtdxYNMuynN"
   },
   "source": [
    " **Explanation**\n",
    "\n",
    " ***df.isnull().sum().sort_values(ascending=False)*** calculates the number of missing values (null values) in each column of the DataFrame 'df' and then sorts them in descending order based on the count of missing values. This allows you to identify the columns with the highest number of missing values at the top of the list."
   ]
  },
  {
   "cell_type": "code",
   "execution_count": null,
   "id": "698a9477",
   "metadata": {
    "id": "698a9477",
    "outputId": "9ebd20ff-64e5-469d-b8b7-cb053cc17feb"
   },
   "outputs": [
    {
     "data": {
      "text/html": [
       "<div>\n",
       "<style scoped>\n",
       "    .dataframe tbody tr th:only-of-type {\n",
       "        vertical-align: middle;\n",
       "    }\n",
       "\n",
       "    .dataframe tbody tr th {\n",
       "        vertical-align: top;\n",
       "    }\n",
       "\n",
       "    .dataframe thead th {\n",
       "        text-align: right;\n",
       "    }\n",
       "</style>\n",
       "<table border=\"1\" class=\"dataframe\">\n",
       "  <thead>\n",
       "    <tr style=\"text-align: right;\">\n",
       "      <th></th>\n",
       "      <th>Diabetes_binary</th>\n",
       "      <th>HighBP</th>\n",
       "      <th>HighChol</th>\n",
       "      <th>CholCheck</th>\n",
       "      <th>BMI</th>\n",
       "      <th>Smoker</th>\n",
       "      <th>Stroke</th>\n",
       "      <th>HeartDiseaseorAttack</th>\n",
       "      <th>PhysActivity</th>\n",
       "      <th>Fruits</th>\n",
       "      <th>...</th>\n",
       "      <th>AnyHealthcare</th>\n",
       "      <th>NoDocbcCost</th>\n",
       "      <th>GenHlth</th>\n",
       "      <th>MentHlth</th>\n",
       "      <th>PhysHlth</th>\n",
       "      <th>DiffWalk</th>\n",
       "      <th>Sex</th>\n",
       "      <th>Age</th>\n",
       "      <th>Education</th>\n",
       "      <th>Income</th>\n",
       "    </tr>\n",
       "  </thead>\n",
       "  <tbody>\n",
       "    <tr>\n",
       "      <th>count</th>\n",
       "      <td>253680.000000</td>\n",
       "      <td>253680.000000</td>\n",
       "      <td>253680.000000</td>\n",
       "      <td>253680.000000</td>\n",
       "      <td>253654.000000</td>\n",
       "      <td>253597.000000</td>\n",
       "      <td>253680.000000</td>\n",
       "      <td>253680.000000</td>\n",
       "      <td>253680.000000</td>\n",
       "      <td>253680.000000</td>\n",
       "      <td>...</td>\n",
       "      <td>253680.000000</td>\n",
       "      <td>253680.000000</td>\n",
       "      <td>253680.000000</td>\n",
       "      <td>253680.000000</td>\n",
       "      <td>253680.000000</td>\n",
       "      <td>253680.000000</td>\n",
       "      <td>253680.000000</td>\n",
       "      <td>253485.000000</td>\n",
       "      <td>253680.000000</td>\n",
       "      <td>253680.000000</td>\n",
       "    </tr>\n",
       "    <tr>\n",
       "      <th>mean</th>\n",
       "      <td>0.139333</td>\n",
       "      <td>0.429001</td>\n",
       "      <td>0.424121</td>\n",
       "      <td>0.962670</td>\n",
       "      <td>28.382352</td>\n",
       "      <td>0.443140</td>\n",
       "      <td>0.040571</td>\n",
       "      <td>0.094186</td>\n",
       "      <td>0.756544</td>\n",
       "      <td>0.634256</td>\n",
       "      <td>...</td>\n",
       "      <td>0.951053</td>\n",
       "      <td>0.084177</td>\n",
       "      <td>2.511392</td>\n",
       "      <td>3.184772</td>\n",
       "      <td>4.242081</td>\n",
       "      <td>0.168224</td>\n",
       "      <td>0.440342</td>\n",
       "      <td>8.031414</td>\n",
       "      <td>5.050434</td>\n",
       "      <td>6.053875</td>\n",
       "    </tr>\n",
       "    <tr>\n",
       "      <th>std</th>\n",
       "      <td>0.346294</td>\n",
       "      <td>0.494934</td>\n",
       "      <td>0.494210</td>\n",
       "      <td>0.189571</td>\n",
       "      <td>6.608865</td>\n",
       "      <td>0.496757</td>\n",
       "      <td>0.197294</td>\n",
       "      <td>0.292087</td>\n",
       "      <td>0.429169</td>\n",
       "      <td>0.481639</td>\n",
       "      <td>...</td>\n",
       "      <td>0.215759</td>\n",
       "      <td>0.277654</td>\n",
       "      <td>1.068477</td>\n",
       "      <td>7.412847</td>\n",
       "      <td>8.717951</td>\n",
       "      <td>0.374066</td>\n",
       "      <td>0.496429</td>\n",
       "      <td>3.054433</td>\n",
       "      <td>0.985774</td>\n",
       "      <td>2.071148</td>\n",
       "    </tr>\n",
       "    <tr>\n",
       "      <th>min</th>\n",
       "      <td>0.000000</td>\n",
       "      <td>0.000000</td>\n",
       "      <td>0.000000</td>\n",
       "      <td>0.000000</td>\n",
       "      <td>12.000000</td>\n",
       "      <td>0.000000</td>\n",
       "      <td>0.000000</td>\n",
       "      <td>0.000000</td>\n",
       "      <td>0.000000</td>\n",
       "      <td>0.000000</td>\n",
       "      <td>...</td>\n",
       "      <td>0.000000</td>\n",
       "      <td>0.000000</td>\n",
       "      <td>1.000000</td>\n",
       "      <td>0.000000</td>\n",
       "      <td>0.000000</td>\n",
       "      <td>0.000000</td>\n",
       "      <td>0.000000</td>\n",
       "      <td>1.000000</td>\n",
       "      <td>1.000000</td>\n",
       "      <td>1.000000</td>\n",
       "    </tr>\n",
       "    <tr>\n",
       "      <th>25%</th>\n",
       "      <td>0.000000</td>\n",
       "      <td>0.000000</td>\n",
       "      <td>0.000000</td>\n",
       "      <td>1.000000</td>\n",
       "      <td>24.000000</td>\n",
       "      <td>0.000000</td>\n",
       "      <td>0.000000</td>\n",
       "      <td>0.000000</td>\n",
       "      <td>1.000000</td>\n",
       "      <td>0.000000</td>\n",
       "      <td>...</td>\n",
       "      <td>1.000000</td>\n",
       "      <td>0.000000</td>\n",
       "      <td>2.000000</td>\n",
       "      <td>0.000000</td>\n",
       "      <td>0.000000</td>\n",
       "      <td>0.000000</td>\n",
       "      <td>0.000000</td>\n",
       "      <td>6.000000</td>\n",
       "      <td>4.000000</td>\n",
       "      <td>5.000000</td>\n",
       "    </tr>\n",
       "    <tr>\n",
       "      <th>50%</th>\n",
       "      <td>0.000000</td>\n",
       "      <td>0.000000</td>\n",
       "      <td>0.000000</td>\n",
       "      <td>1.000000</td>\n",
       "      <td>27.000000</td>\n",
       "      <td>0.000000</td>\n",
       "      <td>0.000000</td>\n",
       "      <td>0.000000</td>\n",
       "      <td>1.000000</td>\n",
       "      <td>1.000000</td>\n",
       "      <td>...</td>\n",
       "      <td>1.000000</td>\n",
       "      <td>0.000000</td>\n",
       "      <td>2.000000</td>\n",
       "      <td>0.000000</td>\n",
       "      <td>0.000000</td>\n",
       "      <td>0.000000</td>\n",
       "      <td>0.000000</td>\n",
       "      <td>8.000000</td>\n",
       "      <td>5.000000</td>\n",
       "      <td>7.000000</td>\n",
       "    </tr>\n",
       "    <tr>\n",
       "      <th>75%</th>\n",
       "      <td>0.000000</td>\n",
       "      <td>1.000000</td>\n",
       "      <td>1.000000</td>\n",
       "      <td>1.000000</td>\n",
       "      <td>31.000000</td>\n",
       "      <td>1.000000</td>\n",
       "      <td>0.000000</td>\n",
       "      <td>0.000000</td>\n",
       "      <td>1.000000</td>\n",
       "      <td>1.000000</td>\n",
       "      <td>...</td>\n",
       "      <td>1.000000</td>\n",
       "      <td>0.000000</td>\n",
       "      <td>3.000000</td>\n",
       "      <td>2.000000</td>\n",
       "      <td>3.000000</td>\n",
       "      <td>0.000000</td>\n",
       "      <td>1.000000</td>\n",
       "      <td>10.000000</td>\n",
       "      <td>6.000000</td>\n",
       "      <td>8.000000</td>\n",
       "    </tr>\n",
       "    <tr>\n",
       "      <th>max</th>\n",
       "      <td>1.000000</td>\n",
       "      <td>1.000000</td>\n",
       "      <td>1.000000</td>\n",
       "      <td>1.000000</td>\n",
       "      <td>98.000000</td>\n",
       "      <td>1.000000</td>\n",
       "      <td>1.000000</td>\n",
       "      <td>1.000000</td>\n",
       "      <td>1.000000</td>\n",
       "      <td>1.000000</td>\n",
       "      <td>...</td>\n",
       "      <td>1.000000</td>\n",
       "      <td>1.000000</td>\n",
       "      <td>5.000000</td>\n",
       "      <td>30.000000</td>\n",
       "      <td>30.000000</td>\n",
       "      <td>1.000000</td>\n",
       "      <td>1.000000</td>\n",
       "      <td>13.000000</td>\n",
       "      <td>6.000000</td>\n",
       "      <td>8.000000</td>\n",
       "    </tr>\n",
       "  </tbody>\n",
       "</table>\n",
       "<p>8 rows × 22 columns</p>\n",
       "</div>"
      ],
      "text/plain": [
       "       Diabetes_binary         HighBP       HighChol      CholCheck  \\\n",
       "count    253680.000000  253680.000000  253680.000000  253680.000000   \n",
       "mean          0.139333       0.429001       0.424121       0.962670   \n",
       "std           0.346294       0.494934       0.494210       0.189571   \n",
       "min           0.000000       0.000000       0.000000       0.000000   \n",
       "25%           0.000000       0.000000       0.000000       1.000000   \n",
       "50%           0.000000       0.000000       0.000000       1.000000   \n",
       "75%           0.000000       1.000000       1.000000       1.000000   \n",
       "max           1.000000       1.000000       1.000000       1.000000   \n",
       "\n",
       "                 BMI         Smoker         Stroke  HeartDiseaseorAttack  \\\n",
       "count  253654.000000  253597.000000  253680.000000         253680.000000   \n",
       "mean       28.382352       0.443140       0.040571              0.094186   \n",
       "std         6.608865       0.496757       0.197294              0.292087   \n",
       "min        12.000000       0.000000       0.000000              0.000000   \n",
       "25%        24.000000       0.000000       0.000000              0.000000   \n",
       "50%        27.000000       0.000000       0.000000              0.000000   \n",
       "75%        31.000000       1.000000       0.000000              0.000000   \n",
       "max        98.000000       1.000000       1.000000              1.000000   \n",
       "\n",
       "        PhysActivity         Fruits  ...  AnyHealthcare    NoDocbcCost  \\\n",
       "count  253680.000000  253680.000000  ...  253680.000000  253680.000000   \n",
       "mean        0.756544       0.634256  ...       0.951053       0.084177   \n",
       "std         0.429169       0.481639  ...       0.215759       0.277654   \n",
       "min         0.000000       0.000000  ...       0.000000       0.000000   \n",
       "25%         1.000000       0.000000  ...       1.000000       0.000000   \n",
       "50%         1.000000       1.000000  ...       1.000000       0.000000   \n",
       "75%         1.000000       1.000000  ...       1.000000       0.000000   \n",
       "max         1.000000       1.000000  ...       1.000000       1.000000   \n",
       "\n",
       "             GenHlth       MentHlth       PhysHlth       DiffWalk  \\\n",
       "count  253680.000000  253680.000000  253680.000000  253680.000000   \n",
       "mean        2.511392       3.184772       4.242081       0.168224   \n",
       "std         1.068477       7.412847       8.717951       0.374066   \n",
       "min         1.000000       0.000000       0.000000       0.000000   \n",
       "25%         2.000000       0.000000       0.000000       0.000000   \n",
       "50%         2.000000       0.000000       0.000000       0.000000   \n",
       "75%         3.000000       2.000000       3.000000       0.000000   \n",
       "max         5.000000      30.000000      30.000000       1.000000   \n",
       "\n",
       "                 Sex            Age      Education         Income  \n",
       "count  253680.000000  253485.000000  253680.000000  253680.000000  \n",
       "mean        0.440342       8.031414       5.050434       6.053875  \n",
       "std         0.496429       3.054433       0.985774       2.071148  \n",
       "min         0.000000       1.000000       1.000000       1.000000  \n",
       "25%         0.000000       6.000000       4.000000       5.000000  \n",
       "50%         0.000000       8.000000       5.000000       7.000000  \n",
       "75%         1.000000      10.000000       6.000000       8.000000  \n",
       "max         1.000000      13.000000       6.000000       8.000000  \n",
       "\n",
       "[8 rows x 22 columns]"
      ]
     },
     "execution_count": 4,
     "metadata": {},
     "output_type": "execute_result"
    }
   ],
   "source": [
    "df.describe()"
   ]
  },
  {
   "cell_type": "markdown",
   "id": "Nus_WJravvZE",
   "metadata": {
    "id": "Nus_WJravvZE"
   },
   "source": [
    "**Explanation**\n",
    "\n",
    "The code ***df.describe()*** provides a summary of descriptive statistics for the numerical columns in the DataFrame 'df'. It includes statistics such as count, mean, standard deviation, minimum, 25th percentile (Q1), median (50th percentile or Q2), 75th percentile (Q3), and maximum for each numerical column. This summary helps in understanding the distribution and central tendency of the data in the DataFrame."
   ]
  },
  {
   "cell_type": "markdown",
   "id": "18b4826f",
   "metadata": {
    "id": "18b4826f"
   },
   "source": [
    "## 3.2) Data Visualization (Categorical Data)"
   ]
  },
  {
   "cell_type": "markdown",
   "id": "FvMTp7KHv7bt",
   "metadata": {
    "id": "FvMTp7KHv7bt"
   },
   "source": [
    "**Explantion**\n",
    "\n",
    "In this part, we are going to visualize each columns using bar plot. Below codes creates a horizontal bar plot using Plotly to visualize the number of people with and without diabetes based on the specify column (e.g. Income, Smoker, Education, Age, etc).\n",
    "\n",
    "The DataFrame ***'df_copy'*** is first prepared by setting the target column as the index and converting the 'Diabetes_binary' column to numeric. The data is then grouped by target column and 'Diabetes_binary', and the counts are calculated.\n",
    "\n",
    "Two bar traces are added to the figure, one for people without diabetes and another for people with diabetes. Each bar represents the number from each column. The bars are color-coded, with 'tomato' representing no diabetes and 'steelblue' representing diabetes cases.\n",
    "\n",
    "The layout is updated with relevant titles and labels for axes, and the plot is displayed using Plotly's 'show' method. This plot allows for a quick comparison of diabetes prevalence for different columns."
   ]
  },
  {
   "cell_type": "markdown",
   "id": "Qv73Zh2PNZMI",
   "metadata": {
    "id": "Qv73Zh2PNZMI"
   },
   "source": [
    "### 3.2.1) Visualization for Income"
   ]
  },
  {
   "cell_type": "code",
   "execution_count": null,
   "id": "OvAVeVYuNf6d",
   "metadata": {
    "colab": {
     "base_uri": "https://localhost:8080/",
     "height": 235
    },
    "id": "OvAVeVYuNf6d",
    "outputId": "c8fe5ae4-b7d8-456b-ea56-017118e2eb22"
   },
   "outputs": [
    {
     "ename": "NameError",
     "evalue": "ignored",
     "output_type": "error",
     "traceback": [
      "\u001b[0;31m---------------------------------------------------------------------------\u001b[0m",
      "\u001b[0;31mNameError\u001b[0m                                 Traceback (most recent call last)",
      "\u001b[0;32m<ipython-input-1-25a9477f6bfd>\u001b[0m in \u001b[0;36m<cell line: 2>\u001b[0;34m()\u001b[0m\n\u001b[1;32m      1\u001b[0m \u001b[0;31m# Make a copy of the DataFrame\u001b[0m\u001b[0;34m\u001b[0m\u001b[0;34m\u001b[0m\u001b[0m\n\u001b[0;32m----> 2\u001b[0;31m \u001b[0mdf_copy\u001b[0m \u001b[0;34m=\u001b[0m \u001b[0mdf\u001b[0m\u001b[0;34m.\u001b[0m\u001b[0mcopy\u001b[0m\u001b[0;34m(\u001b[0m\u001b[0;34m)\u001b[0m\u001b[0;34m\u001b[0m\u001b[0;34m\u001b[0m\u001b[0m\n\u001b[0m\u001b[1;32m      3\u001b[0m \u001b[0;34m\u001b[0m\u001b[0m\n\u001b[1;32m      4\u001b[0m \u001b[0;31m# Set the 'Income' column as the index\u001b[0m\u001b[0;34m\u001b[0m\u001b[0;34m\u001b[0m\u001b[0m\n\u001b[1;32m      5\u001b[0m \u001b[0mdf_copy\u001b[0m\u001b[0;34m.\u001b[0m\u001b[0mset_index\u001b[0m\u001b[0;34m(\u001b[0m\u001b[0;34m'Income'\u001b[0m\u001b[0;34m,\u001b[0m \u001b[0minplace\u001b[0m\u001b[0;34m=\u001b[0m\u001b[0;32mTrue\u001b[0m\u001b[0;34m)\u001b[0m\u001b[0;34m\u001b[0m\u001b[0;34m\u001b[0m\u001b[0m\n",
      "\u001b[0;31mNameError\u001b[0m: name 'df' is not defined"
     ]
    }
   ],
   "source": [
    "# Make a copy of the DataFrame\n",
    "df_copy = df.copy()\n",
    "\n",
    "# Set the 'Income' column as the index\n",
    "df_copy.set_index('Income', inplace=True)\n",
    "\n",
    "# Select the 'Diabetes_binary' column and convert it to numeric if needed\n",
    "df_copy['Diabetes_binary'] = pd.to_numeric(df_copy['Diabetes_binary'], errors='coerce')\n",
    "\n",
    "# Group the data by 'Diabetes_binary' and 'Income' columns and calculate counts\n",
    "grouped = df_copy.groupby(['Income', 'Diabetes_binary']).size().unstack().fillna(0)\n",
    "\n",
    "# Create the figure using plotly.graph_objects\n",
    "fig = go.Figure()\n",
    "\n",
    "# Add the 'No Diabetes' bar trace\n",
    "fig.add_trace(go.Bar(\n",
    "    y=grouped.index,\n",
    "    x=grouped[0],\n",
    "    orientation='h',\n",
    "    name='No Diabetes',\n",
    "    marker=dict(color='tomato')\n",
    "))\n",
    "\n",
    "# Add the 'Diabetes' bar trace\n",
    "fig.add_trace(go.Bar(\n",
    "    y=grouped.index,\n",
    "    x=grouped[1],\n",
    "    orientation='h',\n",
    "    name='Diabetes',\n",
    "    marker=dict(color='steelblue')\n",
    "))\n",
    "\n",
    "# Update the layout\n",
    "fig.update_layout(\n",
    "    title='Number of People with and without Diabetes by Income',\n",
    "    xaxis_title='Number of people',\n",
    "    yaxis=dict(\n",
    "        title='Income',\n",
    "        tickmode='array',\n",
    "        tickvals=[1, 2, 3, 4, 5, 6, 7, 8],\n",
    "        ticktext=[\"less $10k\", 'less $20k', 'less $30k', 'less $34k', 'less $40k', 'less $50k', 'less $75k', 'over $75k']\n",
    "    ),\n",
    "    legend_title='Diabetes',\n",
    "    width=1000,\n",
    "    height=800\n",
    ")\n",
    "# # Define the custom y-axis labels\n",
    "# y_labels = []\n",
    "\n",
    "# # Update the y-axis labels\n",
    "# fig.update_yaxes(ticktext=y_labels, tickvals=grouped.index, tickangle=90)\n",
    "\n",
    "# Show the plot using plotly.offline\n",
    "fig.show()"
   ]
  },
  {
   "cell_type": "markdown",
   "id": "ZjJoS48wOumh",
   "metadata": {
    "id": "ZjJoS48wOumh"
   },
   "source": [
    "### 3.2.2) Visualization for HighBP\n",
    "\n",
    "\n",
    "\n"
   ]
  },
  {
   "cell_type": "code",
   "execution_count": null,
   "id": "E0SQ6d2RPC3m",
   "metadata": {
    "id": "E0SQ6d2RPC3m"
   },
   "outputs": [],
   "source": [
    "# Make a copy of the DataFrame\n",
    "df_copy = df.copy()\n",
    "\n",
    "# Set the 'HighBP' column as the index\n",
    "df_copy.set_index('HighBP', inplace=True)\n",
    "\n",
    "# Select the 'Diabetes_binary' column and convert it to numeric if needed\n",
    "df_copy['Diabetes_binary'] = pd.to_numeric(df_copy['Diabetes_binary'], errors='coerce')\n",
    "\n",
    "# Group the data by 'Diabetes_binary' and 'HighBP' columns and calculate counts\n",
    "grouped = df_copy.groupby(['HighBP', 'Diabetes_binary']).size().unstack().fillna(0)\n",
    "\n",
    "# Create the figure using plotly.graph_objects\n",
    "fig = go.Figure()\n",
    "\n",
    "# Add the 'No Diabetes' bar trace\n",
    "fig.add_trace(go.Bar(\n",
    "    y=grouped.index,\n",
    "    x=grouped[0],\n",
    "    orientation='h',\n",
    "    name='No Diabetes',\n",
    "    marker=dict(color='tomato')\n",
    "))\n",
    "\n",
    "# Add the 'Diabetes' bar trace\n",
    "fig.add_trace(go.Bar(\n",
    "    y=grouped.index,\n",
    "    x=grouped[1],\n",
    "    orientation='h',\n",
    "    name='Diabetes',\n",
    "    marker=dict(color='steelblue')\n",
    "))\n",
    "\n",
    "# Update the layout\n",
    "fig.update_layout(\n",
    "    title='Number of People with and without Diabetes by HighBP',\n",
    "    xaxis_title='Number of people',\n",
    "    yaxis=dict(\n",
    "        title='HighBP',\n",
    "        tickmode='array',\n",
    "        tickvals=[0, 1],\n",
    "        ticktext=['No', 'Yes']\n",
    "    ),\n",
    "    legend_title='Diabetes',\n",
    "    width=1000,\n",
    "    height=800\n",
    ")\n",
    "\n",
    "\n",
    "# Show the plot using plotly.offline\n",
    "fig.show()\n"
   ]
  },
  {
   "cell_type": "markdown",
   "id": "NHU2B4jbPKck",
   "metadata": {
    "id": "NHU2B4jbPKck"
   },
   "source": [
    "### 3.2.3) Visualization for HighChol"
   ]
  },
  {
   "cell_type": "code",
   "execution_count": null,
   "id": "c4ef9ba4",
   "metadata": {
    "id": "c4ef9ba4"
   },
   "outputs": [],
   "source": [
    "# Make a copy of the DataFrame\n",
    "df_copy = df.copy()\n",
    "\n",
    "# Set the 'HighChol' column as the index\n",
    "df_copy.set_index('HighChol', inplace=True)\n",
    "\n",
    "# Select the 'Diabetes_binary' column and convert it to numeric if needed\n",
    "df_copy['Diabetes_binary'] = pd.to_numeric(df['Diabetes_binary'], errors='coerce')\n",
    "\n",
    "# Group the data by 'Diabetes_binary' and 'HighChol' columns and calculate counts\n",
    "grouped = df.groupby(['HighChol', 'Diabetes_binary']).size().unstack().fillna(0)\n",
    "\n",
    "# Create the figure using plotly.graph_objects\n",
    "fig = go.Figure()\n",
    "\n",
    "# Add the 'No Diabetes' bar trace\n",
    "fig.add_trace(go.Bar(\n",
    "    y=grouped.index,\n",
    "    x=grouped[0],\n",
    "    orientation='h',\n",
    "    name='No Diabetes',\n",
    "    marker=dict(color='tomato')\n",
    "))\n",
    "\n",
    "# Add the 'Diabetes' bar trace\n",
    "fig.add_trace(go.Bar(\n",
    "    y=grouped.index,\n",
    "    x=grouped[1],\n",
    "    orientation='h',\n",
    "    name='Diabetes',\n",
    "    marker=dict(color='steelblue')\n",
    "))\n",
    "\n",
    "# Update the layout\n",
    "fig.update_layout(\n",
    "    title='Number of People with and without Diabetes by HighChol',\n",
    "    xaxis_title='Number of people',\n",
    "    yaxis=dict(\n",
    "        title='HighChol',\n",
    "        tickmode='array',\n",
    "        tickvals=[0, 1],\n",
    "        ticktext=['No', 'Yes']\n",
    "    ),\n",
    "    legend_title='Diabetes',\n",
    "    width=1000,\n",
    "    height=800\n",
    ")\n",
    "\n",
    "\n",
    "# Show the plot using plotly.offline\n",
    "fig.show()"
   ]
  },
  {
   "cell_type": "markdown",
   "id": "9OJ-NJy7Pr9y",
   "metadata": {
    "id": "9OJ-NJy7Pr9y"
   },
   "source": [
    "### 3.2.4) Visualization for CholCheck"
   ]
  },
  {
   "cell_type": "code",
   "execution_count": null,
   "id": "ACIBSpHdP5Id",
   "metadata": {
    "id": "ACIBSpHdP5Id"
   },
   "outputs": [],
   "source": [
    "# Make a copy of the DataFrame\n",
    "df_copy = df.copy()\n",
    "\n",
    "# Set the 'CholCheck' column as the index\n",
    "df_copy.set_index('CholCheck', inplace=True)\n",
    "\n",
    "# Select the 'Diabetes_binary' column and convert it to numeric if needed\n",
    "df_copy['Diabetes_binary'] = pd.to_numeric(df['Diabetes_binary'], errors='coerce')\n",
    "\n",
    "# Group the data by 'Diabetes_binary' and 'CholCheck' columns and calculate counts\n",
    "grouped = df.groupby(['CholCheck', 'Diabetes_binary']).size().unstack().fillna(0)\n",
    "\n",
    "# Create the figure using plotly.graph_objects\n",
    "fig = go.Figure()\n",
    "\n",
    "# Add the 'No Diabetes' bar trace\n",
    "fig.add_trace(go.Bar(\n",
    "    y=grouped.index,\n",
    "    x=grouped[0],\n",
    "    orientation='h',\n",
    "    name='No Diabetes',\n",
    "    marker=dict(color='tomato')\n",
    "))\n",
    "\n",
    "# Add the 'Diabetes' bar trace\n",
    "fig.add_trace(go.Bar(\n",
    "    y=grouped.index,\n",
    "    x=grouped[1],\n",
    "    orientation='h',\n",
    "    name='Diabetes',\n",
    "    marker=dict(color='steelblue')\n",
    "))\n",
    "\n",
    "# Update the layout\n",
    "fig.update_layout(\n",
    "    title='Number of People with and without Diabetes by CholCheck',\n",
    "    xaxis_title='Number of people',\n",
    "    yaxis=dict(\n",
    "        title='CholCheck',\n",
    "        tickmode='array',\n",
    "        tickvals=[0, 1],\n",
    "        ticktext=['No', 'Yes']\n",
    "    ),\n",
    "    legend_title='Diabetes',\n",
    "    width=1000,\n",
    "    height=800\n",
    ")\n",
    "\n",
    "\n",
    "# Show the plot using plotly.offline\n",
    "fig.show()"
   ]
  },
  {
   "cell_type": "markdown",
   "id": "HigdviP_P_OQ",
   "metadata": {
    "id": "HigdviP_P_OQ"
   },
   "source": [
    "### 3.2.5) Visualization for Smoker"
   ]
  },
  {
   "cell_type": "code",
   "execution_count": null,
   "id": "ntD3rXBxQJtZ",
   "metadata": {
    "id": "ntD3rXBxQJtZ"
   },
   "outputs": [],
   "source": [
    "# Make a copy of the DataFrame\n",
    "df_copy = df.copy()\n",
    "\n",
    "# Select the 'Diabetes_binary' column and convert it to numeric if needed\n",
    "df_copy['Diabetes_binary'] = pd.to_numeric(df_copy['Diabetes_binary'], errors='coerce')\n",
    "\n",
    "# Group the data by 'Diabetes_binary' and 'Smoker' columns and calculate counts\n",
    "grouped = df.groupby(['Smoker', 'Diabetes_binary']).size().unstack().fillna(0)\n",
    "\n",
    "# Create the figure using plotly.graph_objects\n",
    "fig = go.Figure()\n",
    "\n",
    "# Add the 'No Diabetes' bar trace\n",
    "fig.add_trace(go.Bar(\n",
    "    y=grouped.index,\n",
    "    x=grouped[0],\n",
    "    orientation='h',\n",
    "    name='No Diabetes',\n",
    "    marker=dict(color='tomato')\n",
    "))\n",
    "\n",
    "# Add the 'Diabetes' bar trace\n",
    "fig.add_trace(go.Bar(\n",
    "    y=grouped.index,\n",
    "    x=grouped[1],\n",
    "    orientation='h',\n",
    "    name='Diabetes',\n",
    "    marker=dict(color='steelblue')\n",
    "))\n",
    "\n",
    "# Update the layout\n",
    "fig.update_layout(\n",
    "    title='Number of People with and without Diabetes by Smoker',\n",
    "    xaxis_title='Number of people',\n",
    "    yaxis=dict(\n",
    "        title='Smoker',\n",
    "        tickmode='array',\n",
    "        tickvals=[0, 1],\n",
    "        ticktext=['No', 'Yes']\n",
    "    ),\n",
    "    legend_title='Diabetes',\n",
    "    width=1000,\n",
    "    height=800\n",
    ")\n",
    "\n",
    "\n",
    "# Show the plot using plotly.offline\n",
    "fig.show()"
   ]
  },
  {
   "cell_type": "markdown",
   "id": "9FG5WFGMQRR2",
   "metadata": {
    "id": "9FG5WFGMQRR2"
   },
   "source": [
    "### 3.2.6) Visualization for Stroke"
   ]
  },
  {
   "cell_type": "code",
   "execution_count": null,
   "id": "sqGffyInQbAr",
   "metadata": {
    "id": "sqGffyInQbAr"
   },
   "outputs": [],
   "source": [
    "# Make a copy of the DataFrame\n",
    "df_copy = df.copy()\n",
    "\n",
    "# Set the 'Stroke' column as the index\n",
    "df_copy.set_index('Stroke', inplace=True)\n",
    "\n",
    "# Select the 'Diabetes_binary' column and convert it to numeric if needed\n",
    "df_copy['Diabetes_binary'] = pd.to_numeric(df_copy['Diabetes_binary'], errors='coerce')\n",
    "\n",
    "# Group the data by 'Diabetes_binary' and 'Stroke' columns and calculate counts\n",
    "grouped = df.groupby(['Stroke', 'Diabetes_binary']).size().unstack().fillna(0)\n",
    "\n",
    "# Create the figure using plotly.graph_objects\n",
    "fig = go.Figure()\n",
    "\n",
    "# Add the 'No Diabetes' bar trace\n",
    "fig.add_trace(go.Bar(\n",
    "    y=grouped.index,\n",
    "    x=grouped[0],\n",
    "    orientation='h',\n",
    "    name='No Diabetes',\n",
    "    marker=dict(color='tomato')\n",
    "))\n",
    "\n",
    "# Add the 'Diabetes' bar trace\n",
    "fig.add_trace(go.Bar(\n",
    "    y=grouped.index,\n",
    "    x=grouped[1],\n",
    "    orientation='h',\n",
    "    name='Diabetes',\n",
    "    marker=dict(color='steelblue')\n",
    "))\n",
    "\n",
    "# Update the layout\n",
    "fig.update_layout(\n",
    "    title='Number of People with and without Diabetes by Stroke',\n",
    "    xaxis_title='Number of people',\n",
    "    yaxis=dict(\n",
    "        title='Stroke',\n",
    "        tickmode='array',\n",
    "        tickvals=[0, 1],\n",
    "        ticktext=['No', 'Yes']\n",
    "    ),\n",
    "    legend_title='Diabetes',\n",
    "    width=1000,\n",
    "    height=800\n",
    ")\n",
    "\n",
    "\n",
    "# Show the plot using plotly.offline\n",
    "fig.show()"
   ]
  },
  {
   "cell_type": "markdown",
   "id": "_3uwoUacQs_t",
   "metadata": {
    "id": "_3uwoUacQs_t"
   },
   "source": [
    "### 3.2.7) Visualization for HeartDiseaseorAttack"
   ]
  },
  {
   "cell_type": "code",
   "execution_count": null,
   "id": "ZRnvxuCCQxSv",
   "metadata": {
    "id": "ZRnvxuCCQxSv"
   },
   "outputs": [],
   "source": [
    "# Make a copy of the DataFrame\n",
    "df_copy = df.copy()\n",
    "\n",
    "# Set the 'HeartDiseaseorAttack' column as the index\n",
    "df_copy.set_index('HeartDiseaseorAttack', inplace=True)\n",
    "\n",
    "# Select the 'Diabetes_binary' column and convert it to numeric if needed\n",
    "df_copy['Diabetes_binary'] = pd.to_numeric(df_copy['Diabetes_binary'], errors='coerce')\n",
    "\n",
    "# Group the data by 'Diabetes_binary' and 'HeartDiseaseorAttack' columns and calculate counts\n",
    "grouped = df.groupby(['HeartDiseaseorAttack', 'Diabetes_binary']).size().unstack().fillna(0)\n",
    "\n",
    "# Create the figure using plotly.graph_objects\n",
    "fig = go.Figure()\n",
    "\n",
    "# Add the 'No Diabetes' bar trace\n",
    "fig.add_trace(go.Bar(\n",
    "    y=grouped.index,\n",
    "    x=grouped[0],\n",
    "    orientation='h',\n",
    "    name='No Diabetes',\n",
    "    marker=dict(color='tomato')\n",
    "))\n",
    "\n",
    "# Add the 'Diabetes' bar trace\n",
    "fig.add_trace(go.Bar(\n",
    "    y=grouped.index,\n",
    "    x=grouped[1],\n",
    "    orientation='h',\n",
    "    name='Diabetes',\n",
    "    marker=dict(color='steelblue')\n",
    "))\n",
    "\n",
    "# Update the layout\n",
    "fig.update_layout(\n",
    "    title='Number of People with and without Diabetes by HeartDiseaseorAttack',\n",
    "    xaxis_title='Number of people',\n",
    "    yaxis=dict(\n",
    "        title='HeartDiseaseorAttack',\n",
    "        tickmode='array',\n",
    "        tickvals=[0, 1],\n",
    "        ticktext=['No', 'Yes']\n",
    "    ),\n",
    "    legend_title='Diabetes',\n",
    "    width=1000,\n",
    "    height=800\n",
    ")\n",
    "\n",
    "\n",
    "# Show the plot using plotly.offline\n",
    "fig.show()"
   ]
  },
  {
   "cell_type": "markdown",
   "id": "9KElzZaRQ52_",
   "metadata": {
    "id": "9KElzZaRQ52_"
   },
   "source": [
    "###3.2.8) Visualization for PhysActivity"
   ]
  },
  {
   "cell_type": "code",
   "execution_count": null,
   "id": "isxn15OfRAri",
   "metadata": {
    "id": "isxn15OfRAri"
   },
   "outputs": [],
   "source": [
    "# Make a copy of the DataFrame\n",
    "df_copy = df.copy()\n",
    "\n",
    "# Set the 'PhysActivity' column as the index\n",
    "df_copy.set_index('PhysActivity', inplace=True)\n",
    "\n",
    "# Select the 'Diabetes_binary' column and convert it to numeric if needed\n",
    "df_copy['Diabetes_binary'] = pd.to_numeric(df_copy['Diabetes_binary'], errors='coerce')\n",
    "\n",
    "# Group the data by 'Diabetes_binary' and 'PhysActivity' columns and calculate counts\n",
    "grouped = df.groupby(['PhysActivity', 'Diabetes_binary']).size().unstack().fillna(0)\n",
    "\n",
    "# Create the figure using plotly.graph_objects\n",
    "fig = go.Figure()\n",
    "\n",
    "# Add the 'No Diabetes' bar trace\n",
    "fig.add_trace(go.Bar(\n",
    "    y=grouped.index,\n",
    "    x=grouped[0],\n",
    "    orientation='h',\n",
    "    name='No Diabetes',\n",
    "    marker=dict(color='tomato')\n",
    "))\n",
    "\n",
    "# Add the 'Diabetes' bar trace\n",
    "fig.add_trace(go.Bar(\n",
    "    y=grouped.index,\n",
    "    x=grouped[1],\n",
    "    orientation='h',\n",
    "    name='Diabetes',\n",
    "    marker=dict(color='steelblue')\n",
    "))\n",
    "\n",
    "# Update the layout\n",
    "fig.update_layout(\n",
    "    title='Number of People with and without Diabetes by PhysActivity',\n",
    "    xaxis_title='Number of people',\n",
    "    yaxis=dict(\n",
    "        title='PhysActivity',\n",
    "        tickmode='array',\n",
    "        tickvals=[0, 1],\n",
    "        ticktext=['No', 'Yes']\n",
    "    ),\n",
    "    legend_title='Diabetes',\n",
    "    width=1000,\n",
    "    height=800\n",
    ")\n",
    "\n",
    "\n",
    "# Show the plot using plotly.offline\n",
    "fig.show()"
   ]
  },
  {
   "cell_type": "markdown",
   "id": "bnunB3XjRNpN",
   "metadata": {
    "id": "bnunB3XjRNpN"
   },
   "source": [
    "###3.2.9) Visualization for Fruits"
   ]
  },
  {
   "cell_type": "code",
   "execution_count": null,
   "id": "raJj2hq_RVfa",
   "metadata": {
    "id": "raJj2hq_RVfa"
   },
   "outputs": [],
   "source": [
    "# Make a copy of the DataFrame\n",
    "df_copy = df.copy()\n",
    "\n",
    "# Set the 'Fruits' column as the index\n",
    "df_copy.set_index('Fruits', inplace=True)\n",
    "\n",
    "# Select the 'Diabetes_binary' column and convert it to numeric if needed\n",
    "df_copy['Diabetes_binary'] = pd.to_numeric(df_copy['Diabetes_binary'], errors='coerce')\n",
    "\n",
    "# Group the data by 'Diabetes_binary' and 'Fruits' columns and calculate counts\n",
    "grouped = df.groupby(['Fruits', 'Diabetes_binary']).size().unstack().fillna(0)\n",
    "\n",
    "# Create the figure using plotly.graph_objects\n",
    "fig = go.Figure()\n",
    "\n",
    "# Add the 'No Diabetes' bar trace\n",
    "fig.add_trace(go.Bar(\n",
    "    y=grouped.index,\n",
    "    x=grouped[0],\n",
    "    orientation='h',\n",
    "    name='No Diabetes',\n",
    "    marker=dict(color='tomato')\n",
    "))\n",
    "\n",
    "# Add the 'Diabetes' bar trace\n",
    "fig.add_trace(go.Bar(\n",
    "    y=grouped.index,\n",
    "    x=grouped[1],\n",
    "    orientation='h',\n",
    "    name='Diabetes',\n",
    "    marker=dict(color='steelblue')\n",
    "))\n",
    "\n",
    "# Update the layout\n",
    "fig.update_layout(\n",
    "    title='Number of People with and without Diabetes by Fruits Eater',\n",
    "    xaxis_title='Number of people',\n",
    "    yaxis=dict(\n",
    "        title='Fruits',\n",
    "        tickmode='array',\n",
    "        tickvals=[0, 1],\n",
    "        ticktext=['No', 'Yes']\n",
    "    ),\n",
    "    legend_title='Diabetes',\n",
    "    width=1000,\n",
    "    height=800\n",
    ")\n",
    "\n",
    "\n",
    "# Show the plot using plotly.offline\n",
    "fig.show()"
   ]
  },
  {
   "cell_type": "markdown",
   "id": "xRB0ykDDRpa1",
   "metadata": {
    "id": "xRB0ykDDRpa1"
   },
   "source": [
    "###3.2.10) Visualization for Veggies"
   ]
  },
  {
   "cell_type": "code",
   "execution_count": null,
   "id": "egXgCyvkRy5J",
   "metadata": {
    "id": "egXgCyvkRy5J"
   },
   "outputs": [],
   "source": [
    "# Make a copy of the DataFrame\n",
    "df_copy = df.copy()\n",
    "\n",
    "# Set the 'Veggies' column as the index\n",
    "df_copy.set_index('Veggies', inplace=True)\n",
    "\n",
    "# Select the 'Diabetes_binary' column and convert it to numeric if needed\n",
    "df_copy['Diabetes_binary'] = pd.to_numeric(df_copy['Diabetes_binary'], errors='coerce')\n",
    "\n",
    "# Group the data by 'Diabetes_binary' and 'Veggies' columns and calculate counts\n",
    "grouped = df.groupby(['Veggies', 'Diabetes_binary']).size().unstack().fillna(0)\n",
    "\n",
    "# Create the figure using plotly.graph_objects\n",
    "fig = go.Figure()\n",
    "\n",
    "# Add the 'No Diabetes' bar trace\n",
    "fig.add_trace(go.Bar(\n",
    "    y=grouped.index,\n",
    "    x=grouped[0],\n",
    "    orientation='h',\n",
    "    name='No Diabetes',\n",
    "    marker=dict(color='tomato')\n",
    "))\n",
    "\n",
    "# Add the 'Diabetes' bar trace\n",
    "fig.add_trace(go.Bar(\n",
    "    y=grouped.index,\n",
    "    x=grouped[1],\n",
    "    orientation='h',\n",
    "    name='Diabetes',\n",
    "    marker=dict(color='steelblue')\n",
    "))\n",
    "\n",
    "# Update the layout\n",
    "fig.update_layout(\n",
    "    title='Number of People with and without Diabetes by Veggies Eater',\n",
    "    xaxis_title='Number of people',\n",
    "    yaxis=dict(\n",
    "        title='Veggies',\n",
    "        tickmode='array',\n",
    "        tickvals=[0, 1],\n",
    "        ticktext=['No', 'Yes']\n",
    "    ),\n",
    "    legend_title='Diabetes',\n",
    "    width=1000,\n",
    "    height=800\n",
    ")\n",
    "\n",
    "\n",
    "# Show the plot using plotly.offline\n",
    "fig.show()"
   ]
  },
  {
   "cell_type": "markdown",
   "id": "nQZpvIo4R9QJ",
   "metadata": {
    "id": "nQZpvIo4R9QJ"
   },
   "source": [
    "### 3.2.11) Visualization for HvyAlcoholConsump"
   ]
  },
  {
   "cell_type": "code",
   "execution_count": null,
   "id": "YOTrHj93SGPD",
   "metadata": {
    "id": "YOTrHj93SGPD"
   },
   "outputs": [],
   "source": [
    "# Make a copy of the DataFrame\n",
    "df_copy = df.copy()\n",
    "\n",
    "# Set the 'HvyAlcoholConsump' column as the index\n",
    "df_copy.set_index('HvyAlcoholConsump', inplace=True)\n",
    "\n",
    "# Select the 'Diabetes_binary' column and convert it to numeric if needed\n",
    "df_copy['Diabetes_binary'] = pd.to_numeric(df_copy['Diabetes_binary'], errors='coerce')\n",
    "\n",
    "# Group the data by 'Diabetes_binary' and 'HvyAlcoholConsump' columns and calculate counts\n",
    "grouped = df.groupby(['HvyAlcoholConsump', 'Diabetes_binary']).size().unstack().fillna(0)\n",
    "\n",
    "# Create the figure using plotly.graph_objects\n",
    "fig = go.Figure()\n",
    "\n",
    "# Add the 'No Diabetes' bar trace\n",
    "fig.add_trace(go.Bar(\n",
    "    y=grouped.index,\n",
    "    x=grouped[0],\n",
    "    orientation='h',\n",
    "    name='No Diabetes',\n",
    "    marker=dict(color='tomato')\n",
    "))\n",
    "\n",
    "# Add the 'Diabetes' bar trace\n",
    "fig.add_trace(go.Bar(\n",
    "    y=grouped.index,\n",
    "    x=grouped[1],\n",
    "    orientation='h',\n",
    "    name='Diabetes',\n",
    "    marker=dict(color='steelblue')\n",
    "))\n",
    "\n",
    "# Update the layout\n",
    "fig.update_layout(\n",
    "    title='Number of People with and without Diabetes by HvyAlcoholConsump',\n",
    "    xaxis_title='Number of people',\n",
    "    yaxis=dict(\n",
    "        title='HvyAlcoholConsump',\n",
    "        tickmode='array',\n",
    "        tickvals=[0, 1],\n",
    "        ticktext=['No', 'Yes']\n",
    "    ),\n",
    "    legend_title='Diabetes',\n",
    "    width=1000,\n",
    "    height=800\n",
    ")\n",
    "\n",
    "\n",
    "# Show the plot using plotly.offline\n",
    "fig.show()"
   ]
  },
  {
   "cell_type": "markdown",
   "id": "-zQ85ik4SNRR",
   "metadata": {
    "id": "-zQ85ik4SNRR"
   },
   "source": [
    "###3.2.12) Visualization for AnyHealthcare"
   ]
  },
  {
   "cell_type": "code",
   "execution_count": null,
   "id": "2k0C-xAiSW2m",
   "metadata": {
    "id": "2k0C-xAiSW2m"
   },
   "outputs": [],
   "source": [
    "# Make a copy of the DataFrame\n",
    "df_copy = df.copy()\n",
    "\n",
    "# Set the 'AnyHealthcare' column as the index\n",
    "df_copy.set_index('AnyHealthcare', inplace=True)\n",
    "\n",
    "# Select the 'Diabetes_binary' column and convert it to numeric if needed\n",
    "df_copy['Diabetes_binary'] = pd.to_numeric(df_copy['Diabetes_binary'], errors='coerce')\n",
    "\n",
    "# Group the data by 'Diabetes_binary' and 'AnyHealthcare' columns and calculate counts\n",
    "grouped = df.groupby(['AnyHealthcare', 'Diabetes_binary']).size().unstack().fillna(0)\n",
    "\n",
    "# Create the figure using plotly.graph_objects\n",
    "fig = go.Figure()\n",
    "\n",
    "# Add the 'No Diabetes' bar trace\n",
    "fig.add_trace(go.Bar(\n",
    "    y=grouped.index,\n",
    "    x=grouped[0],\n",
    "    orientation='h',\n",
    "    name='No Diabetes',\n",
    "    marker=dict(color='tomato')\n",
    "))\n",
    "\n",
    "# Add the 'Diabetes' bar trace\n",
    "fig.add_trace(go.Bar(\n",
    "    y=grouped.index,\n",
    "    x=grouped[1],\n",
    "    orientation='h',\n",
    "    name='Diabetes',\n",
    "    marker=dict(color='steelblue')\n",
    "))\n",
    "\n",
    "# Update the layout\n",
    "fig.update_layout(\n",
    "    title='Number of People with and without Diabetes by AnyHealthcare',\n",
    "    xaxis_title='Number of people',\n",
    "    yaxis=dict(\n",
    "        title='AnyHealthcare',\n",
    "        tickmode='array',\n",
    "        tickvals=[0, 1],\n",
    "        ticktext=['No', 'Yes']\n",
    "    ),\n",
    "    legend_title='Diabetes',\n",
    "    width=1000,\n",
    "    height=800\n",
    ")\n",
    "\n",
    "\n",
    "# Show the plot using plotly.offline\n",
    "fig.show()"
   ]
  },
  {
   "cell_type": "markdown",
   "id": "H7XXWxzGSeI9",
   "metadata": {
    "id": "H7XXWxzGSeI9"
   },
   "source": [
    "###3.2.13) Visualization for NoDocbcCost"
   ]
  },
  {
   "cell_type": "code",
   "execution_count": null,
   "id": "f9xOPPooSujv",
   "metadata": {
    "id": "f9xOPPooSujv"
   },
   "outputs": [],
   "source": [
    "# Make a copy of the DataFrame\n",
    "df_copy = df.copy()\n",
    "\n",
    "# Set the 'AnyHealthcare' column as the index\n",
    "df_copy.set_index('NoDocbcCost', inplace=True)\n",
    "\n",
    "# Select the 'Diabetes_binary' column and convert it to numeric if needed\n",
    "df_copy['Diabetes_binary'] = pd.to_numeric(df_copy['Diabetes_binary'], errors='coerce')\n",
    "\n",
    "# Group the data by 'Diabetes_binary' and 'NoDocbcCost' columns and calculate counts\n",
    "grouped = df.groupby(['NoDocbcCost', 'Diabetes_binary']).size().unstack().fillna(0)\n",
    "\n",
    "# Create the figure using plotly.graph_objects\n",
    "fig = go.Figure()\n",
    "\n",
    "# Add the 'No Diabetes' bar trace\n",
    "fig.add_trace(go.Bar(\n",
    "    y=grouped.index,\n",
    "    x=grouped[0],\n",
    "    orientation='h',\n",
    "    name='No Diabetes',\n",
    "    marker=dict(color='tomato')\n",
    "))\n",
    "\n",
    "# Add the 'Diabetes' bar trace\n",
    "fig.add_trace(go.Bar(\n",
    "    y=grouped.index,\n",
    "    x=grouped[1],\n",
    "    orientation='h',\n",
    "    name='Diabetes',\n",
    "    marker=dict(color='steelblue')\n",
    "))\n",
    "\n",
    "# Update the layout\n",
    "fig.update_layout(\n",
    "    title='Number of People with and without Diabetes by NoDocbcCost',\n",
    "    xaxis_title='Number of people',\n",
    "    yaxis=dict(\n",
    "        title='NoDocbcCost',\n",
    "        tickmode='array',\n",
    "        tickvals=[0, 1],\n",
    "        ticktext=['No', 'Yes']\n",
    "    ),\n",
    "    legend_title='Diabetes',\n",
    "    width=1000,\n",
    "    height=800\n",
    ")\n",
    "\n",
    "\n",
    "# Show the plot using plotly.offline\n",
    "fig.show()"
   ]
  },
  {
   "cell_type": "markdown",
   "id": "RC8JMZFjSzLD",
   "metadata": {
    "id": "RC8JMZFjSzLD"
   },
   "source": [
    "###3.2.14) Visualization for GenHlth"
   ]
  },
  {
   "cell_type": "code",
   "execution_count": null,
   "id": "hs7BK1nYS5gK",
   "metadata": {
    "id": "hs7BK1nYS5gK"
   },
   "outputs": [],
   "source": [
    "# Make a copy of the DataFrame\n",
    "df_copy = df.copy()\n",
    "\n",
    "# Set the 'GenHlth' column as the index\n",
    "df_copy.set_index('GenHlth', inplace=True)\n",
    "\n",
    "# Select the 'Diabetes_binary' column and convert it to numeric if needed\n",
    "df_copy['Diabetes_binary'] = pd.to_numeric(df_copy['Diabetes_binary'], errors='coerce')\n",
    "\n",
    "# Group the data by 'Diabetes_binary' and 'GenHlth' columns and calculate counts\n",
    "grouped = df.groupby(['GenHlth', 'Diabetes_binary']).size().unstack().fillna(0)\n",
    "\n",
    "# Create the figure using plotly.graph_objects\n",
    "fig = go.Figure()\n",
    "\n",
    "# Add the 'No Diabetes' bar trace\n",
    "fig.add_trace(go.Bar(\n",
    "    y=grouped.index,\n",
    "    x=grouped[0],\n",
    "    orientation='h',\n",
    "    name='No Diabetes',\n",
    "    marker=dict(color='tomato')\n",
    "))\n",
    "\n",
    "# Add the 'Diabetes' bar trace\n",
    "fig.add_trace(go.Bar(\n",
    "    y=grouped.index,\n",
    "    x=grouped[1],\n",
    "    orientation='h',\n",
    "    name='Diabetes',\n",
    "    marker=dict(color='steelblue')\n",
    "))\n",
    "\n",
    "# Update the layout\n",
    "fig.update_layout(\n",
    "    title='Number of People with and without Diabetes by GenHlth',\n",
    "    xaxis_title='Number of people',\n",
    "    yaxis=dict(\n",
    "        title='GenHlth',\n",
    "        tickmode='array',\n",
    "        tickvals=[1, 2, 3, 4, 5],\n",
    "        ticktext=['Excellent', 'Very Good', 'Good', 'Fair', 'Poor']\n",
    "    ),\n",
    "    legend_title='Diabetes',\n",
    "    width=1000,\n",
    "    height=800\n",
    ")\n",
    "\n",
    "\n",
    "# Show the plot using plotly.offline\n",
    "fig.show()"
   ]
  },
  {
   "cell_type": "markdown",
   "id": "oPqy7PM_TLF-",
   "metadata": {
    "id": "oPqy7PM_TLF-"
   },
   "source": [
    "###3.2.15) Visualization for DiffWalk"
   ]
  },
  {
   "cell_type": "code",
   "execution_count": null,
   "id": "6bfakkOWTRPZ",
   "metadata": {
    "id": "6bfakkOWTRPZ"
   },
   "outputs": [],
   "source": [
    "# Make a copy of the DataFrame\n",
    "df_copy = df.copy()\n",
    "\n",
    "# Set the 'DiffWalk' column as the index\n",
    "df_copy.set_index('DiffWalk', inplace=True)\n",
    "\n",
    "# Select the 'Diabetes_binary' column and convert it to numeric if needed\n",
    "df_copy['Diabetes_binary'] = pd.to_numeric(df_copy['Diabetes_binary'], errors='coerce')\n",
    "\n",
    "# Group the data by 'Diabetes_binary' and 'DiffWalk' columns and calculate counts\n",
    "grouped = df.groupby(['DiffWalk', 'Diabetes_binary']).size().unstack().fillna(0)\n",
    "\n",
    "# Create the figure using plotly.graph_objects\n",
    "fig = go.Figure()\n",
    "\n",
    "# Add the 'No Diabetes' bar trace\n",
    "fig.add_trace(go.Bar(\n",
    "    y=grouped.index,\n",
    "    x=grouped[0],\n",
    "    orientation='h',\n",
    "    name='No Diabetes',\n",
    "    marker=dict(color='tomato')\n",
    "))\n",
    "\n",
    "# Add the 'Diabetes' bar trace\n",
    "fig.add_trace(go.Bar(\n",
    "    y=grouped.index,\n",
    "    x=grouped[1],\n",
    "    orientation='h',\n",
    "    name='Diabetes',\n",
    "    marker=dict(color='steelblue')\n",
    "))\n",
    "\n",
    "# Update the layout\n",
    "fig.update_layout(\n",
    "    title='Number of People with and without Diabetes by DiffWalk',\n",
    "    xaxis_title='Number of people',\n",
    "    yaxis=dict(\n",
    "        title='DiffWalk',\n",
    "        tickmode='array',\n",
    "        tickvals=[0, 1],\n",
    "        ticktext=['No', 'Yes']\n",
    "    ),\n",
    "    legend_title='Diabetes',\n",
    "    width=1000,\n",
    "    height=800\n",
    ")\n",
    "\n",
    "\n",
    "# Show the plot using plotly.offline\n",
    "fig.show()"
   ]
  },
  {
   "cell_type": "markdown",
   "id": "HjXIsb9qTU5b",
   "metadata": {
    "id": "HjXIsb9qTU5b"
   },
   "source": [
    "###3.2.16) Visualization for Sex"
   ]
  },
  {
   "cell_type": "code",
   "execution_count": null,
   "id": "-iyksAkTTb29",
   "metadata": {
    "id": "-iyksAkTTb29"
   },
   "outputs": [],
   "source": [
    "# Make a copy of the DataFrame\n",
    "df_copy = df.copy()\n",
    "\n",
    "# Set the 'Sex' column as the index\n",
    "df_copy.set_index('Sex', inplace=True)\n",
    "\n",
    "# Select the 'Diabetes_binary' column and convert it to numeric if needed\n",
    "df_copy['Diabetes_binary'] = pd.to_numeric(df_copy['Diabetes_binary'], errors='coerce')\n",
    "\n",
    "# Group the data by 'Diabetes_binary' and 'Sex' columns and calculate counts\n",
    "grouped = df.groupby(['Sex', 'Diabetes_binary']).size().unstack().fillna(0)\n",
    "\n",
    "# Create the figure using plotly.graph_objects\n",
    "fig = go.Figure()\n",
    "\n",
    "# Add the 'No Diabetes' bar trace\n",
    "fig.add_trace(go.Bar(\n",
    "    y=grouped.index,\n",
    "    x=grouped[0],\n",
    "    orientation='h',\n",
    "    name='No Diabetes',\n",
    "    marker=dict(color='tomato')\n",
    "))\n",
    "\n",
    "# Add the 'Diabetes' bar trace\n",
    "fig.add_trace(go.Bar(\n",
    "    y=grouped.index,\n",
    "    x=grouped[1],\n",
    "    orientation='h',\n",
    "    name='Diabetes',\n",
    "    marker=dict(color='steelblue')\n",
    "))\n",
    "\n",
    "# Update the layout\n",
    "fig.update_layout(\n",
    "    title='Number of People with and without Diabetes by Sex',\n",
    "    xaxis_title='Number of people',\n",
    "    yaxis=dict(\n",
    "        title='Sex',\n",
    "        tickmode='array',\n",
    "        tickvals=[0, 1],\n",
    "        ticktext=['Female', 'Male']\n",
    "    ),\n",
    "    legend_title='Diabetes',\n",
    "    width=1000,\n",
    "    height=800\n",
    ")\n",
    "\n",
    "# Show the plot using plotly.offline\n",
    "fig.show()"
   ]
  },
  {
   "cell_type": "markdown",
   "id": "3I7EVwU0TgUg",
   "metadata": {
    "id": "3I7EVwU0TgUg"
   },
   "source": [
    "###3.2.17) Visualization for Education"
   ]
  },
  {
   "cell_type": "code",
   "execution_count": null,
   "id": "4Ac1w9i0TodL",
   "metadata": {
    "id": "4Ac1w9i0TodL"
   },
   "outputs": [],
   "source": [
    "# Make a copy of the DataFrame\n",
    "df_copy = df.copy()\n",
    "\n",
    "# Set the 'Education' column as the index\n",
    "df_copy.set_index('Education', inplace=True)\n",
    "\n",
    "# Select the 'Diabetes_binary' column and convert it to numeric if needed\n",
    "df_copy['Diabetes_binary'] = pd.to_numeric(df_copy['Diabetes_binary'], errors='coerce')\n",
    "\n",
    "# Group the data by 'Diabetes_binary' and 'Education' columns and calculate counts\n",
    "grouped = df.groupby(['Education', 'Diabetes_binary']).size().unstack().fillna(0)\n",
    "\n",
    "# Create the figure using plotly.graph_objects\n",
    "fig = go.Figure()\n",
    "\n",
    "# Add the 'No Diabetes' bar trace\n",
    "fig.add_trace(go.Bar(\n",
    "    y=grouped.index,\n",
    "    x=grouped[0],\n",
    "    orientation='h',\n",
    "    name='No Diabetes',\n",
    "    marker=dict(color='tomato')\n",
    "))\n",
    "\n",
    "# Add the 'Diabetes' bar trace\n",
    "fig.add_trace(go.Bar(\n",
    "    y=grouped.index,\n",
    "    x=grouped[1],\n",
    "    orientation='h',\n",
    "    name='Diabetes',\n",
    "    marker=dict(color='steelblue')\n",
    "))\n",
    "\n",
    "# Update the layout\n",
    "fig.update_layout(\n",
    "    title='Number of People with and without Diabetes by Education',\n",
    "    xaxis_title='Number of people',\n",
    "    yaxis=dict(\n",
    "        title='Education',\n",
    "        tickmode='array',\n",
    "        tickvals=[1, 2, 3, 4, 5, 6],\n",
    "        ticktext=['Never attended school or only kindergarten', 'Grades 1 through 8 (Elementary)', '3.Grades 9 through 11 (Some high school)',\n",
    "                  'Grade 12 or GED (High school graduate)' ,' College 1 year to 3 years (Some college or technical school)' ,\n",
    "                  'College 4 years or more (College graduate)']\n",
    "    ),\n",
    "    legend_title='Diabetes',\n",
    "    width=1000,\n",
    "    height=800\n",
    ")\n",
    "\n",
    "\n",
    "# Show the plot using plotly.offline\n",
    "fig.show()"
   ]
  },
  {
   "cell_type": "markdown",
   "id": "HyNfcf9e3orR",
   "metadata": {
    "id": "HyNfcf9e3orR"
   },
   "source": [
    "### 3.2.18) Visualization for Age\n",
    "\n",
    "\n"
   ]
  },
  {
   "cell_type": "code",
   "execution_count": null,
   "id": "CIcwURh33meB",
   "metadata": {
    "id": "CIcwURh33meB"
   },
   "outputs": [],
   "source": [
    "# Make a copy of the DataFrame\n",
    "df_copy = df.copy()\n",
    "\n",
    "# Set the 'Education' column as the index\n",
    "df_copy.set_index('Age', inplace=True)\n",
    "\n",
    "# Select the 'Diabetes_binary' column and convert it to numeric if needed\n",
    "df_copy['Diabetes_binary'] = pd.to_numeric(df_copy['Diabetes_binary'], errors='coerce')\n",
    "\n",
    "# Group the data by 'Diabetes_binary' and 'Education' columns and calculate counts\n",
    "grouped = df.groupby(['Age', 'Diabetes_binary']).size().unstack().fillna(0)\n",
    "\n",
    "# Create the figure using plotly.graph_objects\n",
    "fig = go.Figure()\n",
    "\n",
    "# Add the 'No Diabetes' bar trace\n",
    "fig.add_trace(go.Bar(\n",
    "    y=grouped.index,\n",
    "    x=grouped[0],\n",
    "    orientation='h',\n",
    "    name='No Diabetes',\n",
    "    marker=dict(color='tomato')\n",
    "))\n",
    "\n",
    "# Add the 'Diabetes' bar trace\n",
    "fig.add_trace(go.Bar(\n",
    "    y=grouped.index,\n",
    "    x=grouped[1],\n",
    "    orientation='h',\n",
    "    name='Diabetes',\n",
    "    marker=dict(color='steelblue')\n",
    "))\n",
    "\n",
    "# Update the layout\n",
    "fig.update_layout(\n",
    "    title='Number of People with and without Diabetes by Age',\n",
    "    xaxis_title='Number of people',\n",
    "    yaxis=dict(\n",
    "        title='Age',\n",
    "        tickmode='array',\n",
    "        tickvals=[1, 2, 3, 4, 5, 6, 7, 8, 9, 10, 11, 12, 13],\n",
    "        ticktext=['18-24', '25-29', '30-34', '35-39', '40-44','45-49','50-54','55-59','60-64','65-69','70-74','75-79','80 or older']\n",
    "    ),\n",
    "    legend_title='Diabetes',\n",
    "    width=1000,\n",
    "    height=800\n",
    ")\n",
    "\n",
    "\n",
    "# Show the plot using plotly.offline\n",
    "fig.show()\n",
    "\n"
   ]
  },
  {
   "cell_type": "markdown",
   "id": "7uAwTwAOzIRr",
   "metadata": {
    "id": "7uAwTwAOzIRr"
   },
   "source": [
    "## 3.3) Data Visualization (Continuous Data)"
   ]
  },
  {
   "cell_type": "markdown",
   "id": "1-PlNcMCUyJq",
   "metadata": {
    "id": "1-PlNcMCUyJq"
   },
   "source": [
    "###3.3.1) Visualization for BMI"
   ]
  },
  {
   "cell_type": "markdown",
   "id": "vTpLpANNztxZ",
   "metadata": {
    "id": "vTpLpANNztxZ"
   },
   "source": [
    "**Explanation**\n",
    "\n",
    "In this part, we are going to visualize the continuous data using density graph. The code below creates a density plot using Seaborn to visualize the distribution of target column for different diabetes types (No Diabetes and Diabetes).\n",
    "\n",
    "The plot displays stacked distributions, with each category represented by a different color. It allows for a quick comparison with the target columns between the two diabetes groups, helping to identify potential differences or patterns in the target columns."
   ]
  },
  {
   "cell_type": "code",
   "execution_count": null,
   "id": "ddtMdDOIU3GU",
   "metadata": {
    "id": "ddtMdDOIU3GU"
   },
   "outputs": [],
   "source": [
    "# Set the custom legend labels\n",
    "legend_labels = ['No Diabetes', 'Diabetes']\n",
    "\n",
    "# Create the density plot with stacked distributions\n",
    "sns.displot(df, x=\"BMI\", hue=\"Diabetes_binary\", kind=\"kde\", multiple=\"stack\", legend=False)\n",
    "\n",
    "# Set the custom legend labels\n",
    "plt.legend(legend_labels)\n",
    "\n",
    "# Set the plot title\n",
    "plt.title('Distribution of BMI for Diabetes Type')\n",
    "\n",
    "# Show the plot\n",
    "plt.show()"
   ]
  },
  {
   "cell_type": "markdown",
   "id": "HDLAXxkIU8CC",
   "metadata": {
    "id": "HDLAXxkIU8CC"
   },
   "source": [
    "###3.3.2) Visualization for MentHlth"
   ]
  },
  {
   "cell_type": "code",
   "execution_count": null,
   "id": "rQoKybJ_VE1U",
   "metadata": {
    "id": "rQoKybJ_VE1U"
   },
   "outputs": [],
   "source": [
    "# Set the custom legend labels\n",
    "legend_labels = ['No Diabetes', 'Diabetes']\n",
    "\n",
    "# Create the density plot with stacked distributions\n",
    "sns.displot(df, x=\"MentHlth\", hue=\"Diabetes_binary\", kind=\"kde\", multiple=\"stack\", legend=False)\n",
    "\n",
    "# Set the custom legend labels\n",
    "plt.legend(legend_labels)\n",
    "\n",
    "# Set the plot title\n",
    "plt.title('Distribution of Mental Health for Diabetes Type')\n",
    "\n",
    "# Show the plot\n",
    "plt.show()"
   ]
  },
  {
   "cell_type": "markdown",
   "id": "kEJa9akO5BVG",
   "metadata": {
    "id": "kEJa9akO5BVG"
   },
   "source": [
    "###3.3.3) Visualization for PhysHlth"
   ]
  },
  {
   "cell_type": "code",
   "execution_count": null,
   "id": "27c583ba",
   "metadata": {
    "id": "27c583ba"
   },
   "outputs": [],
   "source": [
    "# Set the custom legend labels\n",
    "legend_labels = ['No Diabetes', 'Diabetes']\n",
    "\n",
    "# Create the density plot with stacked distributions\n",
    "sns.displot(df, x=\"PhysHlth\", hue=\"Diabetes_binary\", kind=\"kde\", multiple=\"stack\", legend=False)\n",
    "\n",
    "# Set the custom legend labels\n",
    "plt.legend(legend_labels)\n",
    "\n",
    "# Set the plot title\n",
    "plt.title('Distribution of Physical Health for Diabetes Type')\n",
    "\n",
    "# Show the plot\n",
    "plt.show()"
   ]
  },
  {
   "cell_type": "markdown",
   "id": "d567dcb7",
   "metadata": {
    "id": "d567dcb7"
   },
   "source": [
    "# 4) **Data Prepocessing**"
   ]
  },
  {
   "cell_type": "markdown",
   "id": "a9746d41",
   "metadata": {
    "id": "a9746d41"
   },
   "source": [
    "##4.1) Replacing Missing Values"
   ]
  },
  {
   "cell_type": "code",
   "execution_count": null,
   "id": "STAszbzAX61O",
   "metadata": {
    "id": "STAszbzAX61O"
   },
   "outputs": [],
   "source": [
    "# creating bool series True for NaN values\n",
    "bool_series = pd.isnull(df[\"BMI\"])\n",
    "\n",
    "# filtering data\n",
    "# displaying data only with BMI = NaN\n",
    "df[bool_series]"
   ]
  },
  {
   "cell_type": "markdown",
   "id": "OToIogq317Rh",
   "metadata": {
    "id": "OToIogq317Rh"
   },
   "source": [
    "**Explanation**\n",
    "\n",
    "This code creates a boolean series named \"bool_series\" where each element is True if the corresponding value in the \"BMI\" column of the DataFrame \"df\" is NaN (missing value), and False otherwise.\n",
    "\n",
    "Then, it filters the data by displaying only the rows where the \"BMI\" column has missing values (NaN). This helps to identify the specific rows in the DataFrame where the BMI values are missing."
   ]
  },
  {
   "cell_type": "code",
   "execution_count": null,
   "id": "__AvomwzX-Sk",
   "metadata": {
    "id": "__AvomwzX-Sk"
   },
   "outputs": [],
   "source": [
    "# creating bool series True for NaN values\n",
    "bool_series_smoker = pd.isnull(df[\"Smoker\"])\n",
    "\n",
    "# filtering data\n",
    "# displaying data only with Smoker = NaN\n",
    "df[bool_series_smoker]"
   ]
  },
  {
   "cell_type": "markdown",
   "id": "ey36nk852MGR",
   "metadata": {
    "id": "ey36nk852MGR"
   },
   "source": [
    "**Explanation**\n",
    "\n",
    "This code creates a boolean series named \"bool_series_smoker\" where each element is True if the corresponding value in the \"Smoker\" column of the DataFrame \"df\" is NaN (missing value), and False otherwise.\n",
    "\n",
    "Then, it filters the data by displaying only the rows where the \"Smoker\" column has missing values (NaN). This helps to identify the specific rows in the DataFrame where the \"Smoker\" values are missing."
   ]
  },
  {
   "cell_type": "code",
   "execution_count": null,
   "id": "BWA-xMxPYHDO",
   "metadata": {
    "id": "BWA-xMxPYHDO"
   },
   "outputs": [],
   "source": [
    "# creating bool series True for NaN values\n",
    "bool_series_age = pd.isnull(df[\"Age\"])\n",
    "\n",
    "# filtering data\n",
    "# displaying data only with Smoker = NaN\n",
    "df[bool_series_age]"
   ]
  },
  {
   "cell_type": "markdown",
   "id": "9fx1y7bS2OXe",
   "metadata": {
    "id": "9fx1y7bS2OXe"
   },
   "source": [
    "**Explanation**\n",
    "\n",
    "This code creates a boolean series named \"bool_series_age\" where each element is True if the corresponding value in the \"Age\" column of the DataFrame \"df\" is NaN (missing value), and False otherwise.\n",
    "\n",
    "Then, it filters the data by displaying only the rows where the \"Age\" column has missing values (NaN). This helps to identify the specific rows in the DataFrame where the \"Age\" values are missing."
   ]
  },
  {
   "cell_type": "code",
   "execution_count": null,
   "id": "KJQIX7tbZAXC",
   "metadata": {
    "id": "KJQIX7tbZAXC"
   },
   "outputs": [],
   "source": [
    "# Calculate median for BMI and Age\n",
    "median_bmi = df['BMI'].median()\n",
    "median_age = df['Age'].median()\n",
    "\n",
    "# Calculate mode for Smoker\n",
    "mode_smoker = df['Smoker'].mode().iloc[0]\n",
    "\n",
    "# Calculate mode for Age\n",
    "mode_age = df['Age'].mode().iloc[0]\n",
    "\n",
    "# Replace missing values with median and mode\n",
    "df['BMI'].fillna(median_bmi, inplace=True)\n",
    "df['Age'].fillna(mode_age, inplace=True)\n",
    "df['Smoker'].fillna(mode_smoker, inplace=True)\n",
    "\n",
    "# Save the updated DataFrame back to the CSV file\n",
    "# df.to_csv('diabetes_2_missing_values.csv', index=False)\n",
    "\n",
    "print(\"Median BMI: \",median_bmi)\n",
    "print(\"Median Age: \",mode_age)\n",
    "print(\"Mode Smoker: \",median_bmi)"
   ]
  },
  {
   "cell_type": "markdown",
   "id": "7u_qbJyU2Pkf",
   "metadata": {
    "id": "7u_qbJyU2Pkf"
   },
   "source": [
    "**Explanation**\n",
    "\n",
    "This code calculates the median for the 'BMI' and 'Age' columns in the DataFrame 'df' using the 'median()' method. It also calculates the mode for the 'Smoker' and 'Age' columns using the 'mode()' method.\n",
    "\n",
    "Next, the code replaces the missing values (NaN) in the 'BMI', 'Age', and 'Smoker' columns with their respective calculated median and mode values using the 'fillna()' method. This process helps to impute the missing data with representative values based on the distribution of the existing data in each column."
   ]
  },
  {
   "cell_type": "code",
   "execution_count": null,
   "id": "hi_nX23WZf_x",
   "metadata": {
    "id": "hi_nX23WZf_x"
   },
   "outputs": [],
   "source": [
    "df.isnull().sum().sort_values(ascending=False)"
   ]
  },
  {
   "cell_type": "markdown",
   "id": "7d216046",
   "metadata": {
    "id": "7d216046"
   },
   "source": [
    "**Explanation**\n",
    "\n",
    "Above code uses the 'isnull()' method to identify missing values (NaN) in each column of the DataFrame 'df'. The 'sum()' method is then applied to calculate the total number of missing values in each column. The result counts are sorted in descending order using the 'sort_values()' method to display columns with the highest number of missing values at the top.\n",
    "\n"
   ]
  },
  {
   "cell_type": "markdown",
   "id": "9d59ba44",
   "metadata": {
    "id": "9d59ba44"
   },
   "source": [
    "##4.2) Remove Dupplicate\n",
    "\n",
    "\n"
   ]
  },
  {
   "cell_type": "code",
   "execution_count": null,
   "id": "beed357b",
   "metadata": {
    "id": "beed357b"
   },
   "outputs": [],
   "source": [
    "duplicate_rows = df[df.duplicated(keep=False)]\n",
    "\n",
    "# Display the duplicate rows\n",
    "print(\"Duplicate Rows:\")\n",
    "print(duplicate_rows)"
   ]
  },
  {
   "cell_type": "markdown",
   "id": "q0WYAZhe3xR3",
   "metadata": {
    "id": "q0WYAZhe3xR3"
   },
   "source": [
    "**Explanation**\n",
    "\n",
    "The code above uses the 'duplicated()' method on the DataFrame 'df' with the parameter 'keep=False'. This will identify all the duplicate rows in the DataFrame, keeping all instances of the duplicated rows.\n",
    "\n",
    "Next, the code creates a new DataFrame called 'duplicate_rows' by filtering 'df' using the boolean obtained from the 'duplicated()' method. This DataFrame contains all the rows that are duplicated in the original DataFrame."
   ]
  },
  {
   "cell_type": "code",
   "execution_count": null,
   "id": "51b758d9",
   "metadata": {
    "id": "51b758d9"
   },
   "outputs": [],
   "source": [
    "# Drop duplicate rows in place\n",
    "df.drop_duplicates(inplace=True)"
   ]
  },
  {
   "cell_type": "markdown",
   "id": "CTSWnV8L4I1v",
   "metadata": {
    "id": "CTSWnV8L4I1v"
   },
   "source": [
    "**Explanation**\n",
    "\n",
    "The code uses the 'drop_duplicates()' method on the DataFrame 'df' with the parameter 'inplace=True'. This method removes duplicate rows from the DataFrame in place, meaning that it modifies the DataFrame directly without creating a new copy.\n",
    "\n",
    "After executing this code, the DataFrame 'df' will have any duplicate rows removed, and it will be updated with the modified version containing only unique rows."
   ]
  },
  {
   "cell_type": "markdown",
   "id": "69ac6b51",
   "metadata": {
    "id": "69ac6b51"
   },
   "source": [
    "##4.3) Remove Outliers"
   ]
  },
  {
   "cell_type": "markdown",
   "id": "fc02f3d0",
   "metadata": {
    "id": "fc02f3d0"
   },
   "source": [
    "### 4.3.1) Check and remove outlier for BMI"
   ]
  },
  {
   "cell_type": "code",
   "execution_count": null,
   "id": "ZgGIUAzmaQxN",
   "metadata": {
    "id": "ZgGIUAzmaQxN"
   },
   "outputs": [],
   "source": [
    "df = df.reset_index(drop=True)\n",
    "fig = px.box(df, y=\"BMI\")\n",
    "fig.show()"
   ]
  },
  {
   "cell_type": "markdown",
   "id": "iD1qreDb4nk7",
   "metadata": {
    "id": "iD1qreDb4nk7"
   },
   "source": [
    "**Explanation**\n",
    "\n",
    "The code resets the DataFrame index, and then it creates and displays a box plot for the 'BMI' column using Plotly Express. The box plot shows the distribution of 'BMI' values, including median, quartiles, and potential outliers."
   ]
  },
  {
   "cell_type": "code",
   "execution_count": null,
   "id": "eb254f75",
   "metadata": {
    "id": "eb254f75"
   },
   "outputs": [],
   "source": [
    "# Calculate the IQR for the 'BMI' column\n",
    "Q1 = df['BMI'].quantile(0.25)\n",
    "Q3 = df['BMI'].quantile(0.75)\n",
    "IQR = Q3 - Q1\n",
    "\n",
    "# Define the IQR threshold for outlier detection\n",
    "threshold = 1.5\n",
    "\n",
    "# Remove rows with 'BMI' values outside the IQR range\n",
    "df = df[~((df['BMI'] < (Q1 - threshold * IQR)) | (df['BMI'] > (Q3 + threshold * IQR)))]"
   ]
  },
  {
   "cell_type": "markdown",
   "id": "fQ9vhbiU4xQf",
   "metadata": {
    "id": "fQ9vhbiU4xQf"
   },
   "source": [
    "**Explantion**\n",
    "\n",
    "The code resets the DataFrame index, and then it creates and displays a box plot for the 'BMI' column using Plotly Express. The box plot shows the distribution of 'BMI' values, including median, quartiles, and potential outliers."
   ]
  },
  {
   "cell_type": "markdown",
   "id": "e7296e31",
   "metadata": {
    "id": "e7296e31"
   },
   "source": [
    "\n",
    "\n",
    "## 4.4) Balance Dataset"
   ]
  },
  {
   "cell_type": "code",
   "execution_count": null,
   "id": "21b94457",
   "metadata": {
    "id": "21b94457"
   },
   "outputs": [],
   "source": [
    "print(df['Diabetes_binary'].value_counts())"
   ]
  },
  {
   "cell_type": "markdown",
   "id": "3EkNBLWo5bOI",
   "metadata": {
    "id": "3EkNBLWo5bOI"
   },
   "source": [
    "**Explanation**\n",
    "\n",
    "This code prints the count of occurrences of each unique value in the 'Diabetes_binary' column of the DataFrame 'df'. It provides a quick summary of how many instances have a value of '0' (indicating no diabetes) and how many instances have a value of '1' (indicating diabetes)."
   ]
  },
  {
   "cell_type": "code",
   "execution_count": null,
   "id": "c8fe1e02",
   "metadata": {
    "id": "c8fe1e02"
   },
   "outputs": [],
   "source": [
    "sns.catplot(x=\"Diabetes_binary\", kind='count', data=df)\n",
    "plt.xticks([0,1],['no diabetes','diabetes'])\n",
    "plt.title('Barplot of Diabetes')"
   ]
  },
  {
   "cell_type": "markdown",
   "id": "yz5yRUol5nLD",
   "metadata": {
    "id": "yz5yRUol5nLD"
   },
   "source": [
    "**Explanation**\n",
    "\n",
    "This code creates a categorical plot using Seaborn's catplot. It visualizes the count of instances for each category ('0' for no diabetes and '1' for diabetes) in the 'Diabetes_binary' column. The plot is displayed as a bar chart with custom labels for the x-axis ticks ('no diabetes' and 'diabetes'). The title of the plot is set as \"Barplot of Diabetes.\""
   ]
  },
  {
   "cell_type": "code",
   "execution_count": null,
   "id": "68ea0b48",
   "metadata": {
    "id": "68ea0b48"
   },
   "outputs": [],
   "source": [
    "# Separate majority and minority classes\n",
    "df_majority = df[df.Diabetes_binary== 0]\n",
    "df_minority = df[df.Diabetes_binary== 1]\n",
    "\n",
    "# Upsample minority class\n",
    "df_minority_upsampled = resample(df_minority,\n",
    "                                 replace=True,     # sample with replacement\n",
    "                                 n_samples=len(df_majority),    # to match majority class\n",
    "                                 random_state=123) # reproducible results\n",
    "\n",
    "# Combine majority class with upsampled minority class\n",
    "df_upsampled = pd.concat([df_majority, df_minority_upsampled])\n",
    "\n",
    "# Display new class counts\n",
    "sns.catplot(x=\"Diabetes_binary\", kind='count', data=df_upsampled)\n",
    "plt.xticks([0,1],['no diabetes','diabetes'])\n",
    "plt.title('Barplot of Diabetes')"
   ]
  },
  {
   "cell_type": "markdown",
   "id": "REJok5WE55b3",
   "metadata": {
    "id": "REJok5WE55b3"
   },
   "source": [
    "**Explanation**\n",
    "\n",
    "The code performs the upsampling of the minority class in the 'Diabetes_binary' column to address class imbalance.\n",
    "\n",
    "***df_majority and df_minority:*** The DataFrame is split into two DataFrames based on the values in the 'Diabetes_binary' column. df_majority contains instances where 'Diabetes_binary' is 0 (no diabetes), and df_minority contains instances where 'Diabetes_binary' is 1 (diabetes).\n",
    "\n",
    "***df_minority_upsampled:*** The minority class is upsampled using the resample function from scikit-learn. Upsampling involves randomly duplicating instances from the minority class to match the number of instances in the majority class. The n_samples parameter is set to the length of the majority class to balance the class distribution.\n",
    "\n",
    "***df_upsampled:*** The upsampled minority class is combined with the original majority class using pd.concat to create a new DataFrame called df_upsampled. Now, the classes are balanced in this new DataFrame.\n",
    "\n",
    "The justification for upsampling the minority class is to prevent class imbalance, which can negatively impact the performance of machine learning models, especially those sensitive to class proportions. By creating a balanced dataset, the model can learn from both classes equally, potentially leading to better generalization and predictive performance. The bar plot displayed after upsampling shows that the classes are now balanced ('no diabetes' and 'diabetes')."
   ]
  },
  {
   "cell_type": "markdown",
   "id": "78PEayo7CjxV",
   "metadata": {
    "id": "78PEayo7CjxV"
   },
   "source": [
    "## 4.5) Remove useless attribute"
   ]
  },
  {
   "cell_type": "code",
   "execution_count": null,
   "id": "jORMA_SsC6Og",
   "metadata": {
    "id": "jORMA_SsC6Og"
   },
   "outputs": [],
   "source": [
    "# Set the 'event_type' column as the target variable\n",
    "target_variable = 'Diabetes_binary'\n",
    "\n",
    "# set the plot size\n",
    "plt.figure(figsize=(12, 12))\n",
    "\n",
    "matrix = df.corr()[[target_variable]].round(4)\n",
    "\n",
    "# sorted the correlation value\n",
    "sorted_matrix = matrix.sort_values(by=target_variable, ascending=False)\n",
    "sns.heatmap(sorted_matrix, annot=True, fmt=\".4f\", linewidths=2)\n",
    "\n",
    "# set the heatmap title\n",
    "plt.title(f\"Correlation of Variables with {target_variable}\")\n",
    "\n",
    "plt.show()"
   ]
  },
  {
   "cell_type": "markdown",
   "id": "o_DRCXgB8-6m",
   "metadata": {
    "id": "o_DRCXgB8-6m"
   },
   "source": [
    "**Explanation**\n",
    "\n",
    "The code generates a correlation matrix heatmap to visualize the correlations between different variables and the target variable, which is 'Diabetes_binary.' Each cell in the heatmap represents the correlation coefficient between the target variable and the corresponding variable from the dataset.\n",
    "\n",
    "The values are rounded to four decimal places and displayed using color intensity, where brighter colors indicate stronger positive or negative correlations. The plot allows us to quickly identify the variables that have the highest positive or negative correlations with the target variable, aiding in feature selection for predictive modeling."
   ]
  },
  {
   "cell_type": "code",
   "execution_count": null,
   "id": "9sRcPZk8C8Ln",
   "metadata": {
    "id": "9sRcPZk8C8Ln"
   },
   "outputs": [],
   "source": [
    "# Calculate the correlation matrix\n",
    "correlation_matrix = df.corr()\n",
    "\n",
    "# Filter the columns based on the correlation coefficient\n",
    "selected_columns = correlation_matrix[correlation_matrix[target_variable].round(4) > 0.04].index\n",
    "\n",
    "# Remove the target variable from the selected columns\n",
    "selected_columns = selected_columns.drop(target_variable)\n",
    "\n",
    "# Add the target variable to the selected columns\n",
    "selected_columns = selected_columns.insert(0, target_variable)\n",
    "\n",
    "# Create a new dataframe with the selected columns\n",
    "df_filtered = df[selected_columns]\n",
    "\n",
    "# Overwrite the existing dataframe with the filtered dataframe\n",
    "df = df_filtered\n",
    "\n",
    "# Display the updated dataframe\n",
    "print(df_filtered)"
   ]
  },
  {
   "cell_type": "markdown",
   "id": "T4KiaNQm9dCT",
   "metadata": {
    "id": "T4KiaNQm9dCT"
   },
   "source": []
  },
  {
   "cell_type": "markdown",
   "id": "_Cg0qy10DZYh",
   "metadata": {
    "id": "_Cg0qy10DZYh"
   },
   "source": [
    "# **5) Machine Learning Model**"
   ]
  },
  {
   "cell_type": "markdown",
   "id": "651d6911",
   "metadata": {
    "id": "651d6911"
   },
   "source": [
    "## **5.1) KNN Model**"
   ]
  },
  {
   "cell_type": "code",
   "execution_count": null,
   "id": "b698bb3d",
   "metadata": {
    "id": "b698bb3d",
    "outputId": "fb9834fb-3aa2-4ba0-f848-ef5f55e01c8a"
   },
   "outputs": [
    {
     "ename": "ValueError",
     "evalue": "Input X contains NaN.\nKNeighborsClassifier does not accept missing values encoded as NaN natively. For supervised learning, you might want to consider sklearn.ensemble.HistGradientBoostingClassifier and Regressor which accept missing values encoded as NaNs natively. Alternatively, it is possible to preprocess the data, for instance by using an imputer transformer in a pipeline or drop samples with missing values. See https://scikit-learn.org/stable/modules/impute.html You can find a list of all estimators that handle NaN values at the following page: https://scikit-learn.org/stable/modules/impute.html#estimators-that-handle-nan-values",
     "output_type": "error",
     "traceback": [
      "\u001b[1;31m---------------------------------------------------------------------------\u001b[0m",
      "\u001b[1;31mValueError\u001b[0m                                Traceback (most recent call last)",
      "Cell \u001b[1;32mIn[42], line 6\u001b[0m\n\u001b[0;32m      4\u001b[0m KNN_classifier \u001b[38;5;241m=\u001b[39m KNeighborsClassifier(n_neighbors\u001b[38;5;241m=\u001b[39m\u001b[38;5;241m5\u001b[39m)\n\u001b[0;32m      5\u001b[0m \u001b[38;5;66;03m# model training\u001b[39;00m\n\u001b[1;32m----> 6\u001b[0m \u001b[43mKNN_classifier\u001b[49m\u001b[38;5;241;43m.\u001b[39;49m\u001b[43mfit\u001b[49m\u001b[43m(\u001b[49m\u001b[43mX_train\u001b[49m\u001b[43m,\u001b[49m\u001b[43my_train\u001b[49m\u001b[43m)\u001b[49m\n\u001b[0;32m      7\u001b[0m \u001b[38;5;66;03m# testing the model\u001b[39;00m\n\u001b[0;32m      8\u001b[0m y_pred\u001b[38;5;241m=\u001b[39m KNN_classifer\u001b[38;5;241m.\u001b[39mpredict(X_test)\n",
      "File \u001b[1;32m~\\anaconda3\\lib\\site-packages\\sklearn\\base.py:1151\u001b[0m, in \u001b[0;36m_fit_context.<locals>.decorator.<locals>.wrapper\u001b[1;34m(estimator, *args, **kwargs)\u001b[0m\n\u001b[0;32m   1144\u001b[0m     estimator\u001b[38;5;241m.\u001b[39m_validate_params()\n\u001b[0;32m   1146\u001b[0m \u001b[38;5;28;01mwith\u001b[39;00m config_context(\n\u001b[0;32m   1147\u001b[0m     skip_parameter_validation\u001b[38;5;241m=\u001b[39m(\n\u001b[0;32m   1148\u001b[0m         prefer_skip_nested_validation \u001b[38;5;129;01mor\u001b[39;00m global_skip_validation\n\u001b[0;32m   1149\u001b[0m     )\n\u001b[0;32m   1150\u001b[0m ):\n\u001b[1;32m-> 1151\u001b[0m     \u001b[38;5;28;01mreturn\u001b[39;00m fit_method(estimator, \u001b[38;5;241m*\u001b[39margs, \u001b[38;5;241m*\u001b[39m\u001b[38;5;241m*\u001b[39mkwargs)\n",
      "File \u001b[1;32m~\\anaconda3\\lib\\site-packages\\sklearn\\neighbors\\_classification.py:228\u001b[0m, in \u001b[0;36mKNeighborsClassifier.fit\u001b[1;34m(self, X, y)\u001b[0m\n\u001b[0;32m    206\u001b[0m \u001b[38;5;129m@_fit_context\u001b[39m(\n\u001b[0;32m    207\u001b[0m     \u001b[38;5;66;03m# KNeighborsClassifier.metric is not validated yet\u001b[39;00m\n\u001b[0;32m    208\u001b[0m     prefer_skip_nested_validation\u001b[38;5;241m=\u001b[39m\u001b[38;5;28;01mFalse\u001b[39;00m\n\u001b[0;32m    209\u001b[0m )\n\u001b[0;32m    210\u001b[0m \u001b[38;5;28;01mdef\u001b[39;00m \u001b[38;5;21mfit\u001b[39m(\u001b[38;5;28mself\u001b[39m, X, y):\n\u001b[0;32m    211\u001b[0m     \u001b[38;5;124;03m\"\"\"Fit the k-nearest neighbors classifier from the training dataset.\u001b[39;00m\n\u001b[0;32m    212\u001b[0m \n\u001b[0;32m    213\u001b[0m \u001b[38;5;124;03m    Parameters\u001b[39;00m\n\u001b[1;32m   (...)\u001b[0m\n\u001b[0;32m    226\u001b[0m \u001b[38;5;124;03m        The fitted k-nearest neighbors classifier.\u001b[39;00m\n\u001b[0;32m    227\u001b[0m \u001b[38;5;124;03m    \"\"\"\u001b[39;00m\n\u001b[1;32m--> 228\u001b[0m     \u001b[38;5;28;01mreturn\u001b[39;00m \u001b[38;5;28;43mself\u001b[39;49m\u001b[38;5;241;43m.\u001b[39;49m\u001b[43m_fit\u001b[49m\u001b[43m(\u001b[49m\u001b[43mX\u001b[49m\u001b[43m,\u001b[49m\u001b[43m \u001b[49m\u001b[43my\u001b[49m\u001b[43m)\u001b[49m\n",
      "File \u001b[1;32m~\\anaconda3\\lib\\site-packages\\sklearn\\neighbors\\_base.py:456\u001b[0m, in \u001b[0;36mNeighborsBase._fit\u001b[1;34m(self, X, y)\u001b[0m\n\u001b[0;32m    454\u001b[0m \u001b[38;5;28;01mif\u001b[39;00m \u001b[38;5;28mself\u001b[39m\u001b[38;5;241m.\u001b[39m_get_tags()[\u001b[38;5;124m\"\u001b[39m\u001b[38;5;124mrequires_y\u001b[39m\u001b[38;5;124m\"\u001b[39m]:\n\u001b[0;32m    455\u001b[0m     \u001b[38;5;28;01mif\u001b[39;00m \u001b[38;5;129;01mnot\u001b[39;00m \u001b[38;5;28misinstance\u001b[39m(X, (KDTree, BallTree, NeighborsBase)):\n\u001b[1;32m--> 456\u001b[0m         X, y \u001b[38;5;241m=\u001b[39m \u001b[38;5;28;43mself\u001b[39;49m\u001b[38;5;241;43m.\u001b[39;49m\u001b[43m_validate_data\u001b[49m\u001b[43m(\u001b[49m\n\u001b[0;32m    457\u001b[0m \u001b[43m            \u001b[49m\u001b[43mX\u001b[49m\u001b[43m,\u001b[49m\u001b[43m \u001b[49m\u001b[43my\u001b[49m\u001b[43m,\u001b[49m\u001b[43m \u001b[49m\u001b[43maccept_sparse\u001b[49m\u001b[38;5;241;43m=\u001b[39;49m\u001b[38;5;124;43m\"\u001b[39;49m\u001b[38;5;124;43mcsr\u001b[39;49m\u001b[38;5;124;43m\"\u001b[39;49m\u001b[43m,\u001b[49m\u001b[43m \u001b[49m\u001b[43mmulti_output\u001b[49m\u001b[38;5;241;43m=\u001b[39;49m\u001b[38;5;28;43;01mTrue\u001b[39;49;00m\u001b[43m,\u001b[49m\u001b[43m \u001b[49m\u001b[43morder\u001b[49m\u001b[38;5;241;43m=\u001b[39;49m\u001b[38;5;124;43m\"\u001b[39;49m\u001b[38;5;124;43mC\u001b[39;49m\u001b[38;5;124;43m\"\u001b[39;49m\n\u001b[0;32m    458\u001b[0m \u001b[43m        \u001b[49m\u001b[43m)\u001b[49m\n\u001b[0;32m    460\u001b[0m     \u001b[38;5;28;01mif\u001b[39;00m is_classifier(\u001b[38;5;28mself\u001b[39m):\n\u001b[0;32m    461\u001b[0m         \u001b[38;5;66;03m# Classification targets require a specific format\u001b[39;00m\n\u001b[0;32m    462\u001b[0m         \u001b[38;5;28;01mif\u001b[39;00m y\u001b[38;5;241m.\u001b[39mndim \u001b[38;5;241m==\u001b[39m \u001b[38;5;241m1\u001b[39m \u001b[38;5;129;01mor\u001b[39;00m y\u001b[38;5;241m.\u001b[39mndim \u001b[38;5;241m==\u001b[39m \u001b[38;5;241m2\u001b[39m \u001b[38;5;129;01mand\u001b[39;00m y\u001b[38;5;241m.\u001b[39mshape[\u001b[38;5;241m1\u001b[39m] \u001b[38;5;241m==\u001b[39m \u001b[38;5;241m1\u001b[39m:\n",
      "File \u001b[1;32m~\\anaconda3\\lib\\site-packages\\sklearn\\base.py:621\u001b[0m, in \u001b[0;36mBaseEstimator._validate_data\u001b[1;34m(self, X, y, reset, validate_separately, cast_to_ndarray, **check_params)\u001b[0m\n\u001b[0;32m    619\u001b[0m         y \u001b[38;5;241m=\u001b[39m check_array(y, input_name\u001b[38;5;241m=\u001b[39m\u001b[38;5;124m\"\u001b[39m\u001b[38;5;124my\u001b[39m\u001b[38;5;124m\"\u001b[39m, \u001b[38;5;241m*\u001b[39m\u001b[38;5;241m*\u001b[39mcheck_y_params)\n\u001b[0;32m    620\u001b[0m     \u001b[38;5;28;01melse\u001b[39;00m:\n\u001b[1;32m--> 621\u001b[0m         X, y \u001b[38;5;241m=\u001b[39m check_X_y(X, y, \u001b[38;5;241m*\u001b[39m\u001b[38;5;241m*\u001b[39mcheck_params)\n\u001b[0;32m    622\u001b[0m     out \u001b[38;5;241m=\u001b[39m X, y\n\u001b[0;32m    624\u001b[0m \u001b[38;5;28;01mif\u001b[39;00m \u001b[38;5;129;01mnot\u001b[39;00m no_val_X \u001b[38;5;129;01mand\u001b[39;00m check_params\u001b[38;5;241m.\u001b[39mget(\u001b[38;5;124m\"\u001b[39m\u001b[38;5;124mensure_2d\u001b[39m\u001b[38;5;124m\"\u001b[39m, \u001b[38;5;28;01mTrue\u001b[39;00m):\n",
      "File \u001b[1;32m~\\anaconda3\\lib\\site-packages\\sklearn\\utils\\validation.py:1147\u001b[0m, in \u001b[0;36mcheck_X_y\u001b[1;34m(X, y, accept_sparse, accept_large_sparse, dtype, order, copy, force_all_finite, ensure_2d, allow_nd, multi_output, ensure_min_samples, ensure_min_features, y_numeric, estimator)\u001b[0m\n\u001b[0;32m   1142\u001b[0m         estimator_name \u001b[38;5;241m=\u001b[39m _check_estimator_name(estimator)\n\u001b[0;32m   1143\u001b[0m     \u001b[38;5;28;01mraise\u001b[39;00m \u001b[38;5;167;01mValueError\u001b[39;00m(\n\u001b[0;32m   1144\u001b[0m         \u001b[38;5;124mf\u001b[39m\u001b[38;5;124m\"\u001b[39m\u001b[38;5;132;01m{\u001b[39;00mestimator_name\u001b[38;5;132;01m}\u001b[39;00m\u001b[38;5;124m requires y to be passed, but the target y is None\u001b[39m\u001b[38;5;124m\"\u001b[39m\n\u001b[0;32m   1145\u001b[0m     )\n\u001b[1;32m-> 1147\u001b[0m X \u001b[38;5;241m=\u001b[39m \u001b[43mcheck_array\u001b[49m\u001b[43m(\u001b[49m\n\u001b[0;32m   1148\u001b[0m \u001b[43m    \u001b[49m\u001b[43mX\u001b[49m\u001b[43m,\u001b[49m\n\u001b[0;32m   1149\u001b[0m \u001b[43m    \u001b[49m\u001b[43maccept_sparse\u001b[49m\u001b[38;5;241;43m=\u001b[39;49m\u001b[43maccept_sparse\u001b[49m\u001b[43m,\u001b[49m\n\u001b[0;32m   1150\u001b[0m \u001b[43m    \u001b[49m\u001b[43maccept_large_sparse\u001b[49m\u001b[38;5;241;43m=\u001b[39;49m\u001b[43maccept_large_sparse\u001b[49m\u001b[43m,\u001b[49m\n\u001b[0;32m   1151\u001b[0m \u001b[43m    \u001b[49m\u001b[43mdtype\u001b[49m\u001b[38;5;241;43m=\u001b[39;49m\u001b[43mdtype\u001b[49m\u001b[43m,\u001b[49m\n\u001b[0;32m   1152\u001b[0m \u001b[43m    \u001b[49m\u001b[43morder\u001b[49m\u001b[38;5;241;43m=\u001b[39;49m\u001b[43morder\u001b[49m\u001b[43m,\u001b[49m\n\u001b[0;32m   1153\u001b[0m \u001b[43m    \u001b[49m\u001b[43mcopy\u001b[49m\u001b[38;5;241;43m=\u001b[39;49m\u001b[43mcopy\u001b[49m\u001b[43m,\u001b[49m\n\u001b[0;32m   1154\u001b[0m \u001b[43m    \u001b[49m\u001b[43mforce_all_finite\u001b[49m\u001b[38;5;241;43m=\u001b[39;49m\u001b[43mforce_all_finite\u001b[49m\u001b[43m,\u001b[49m\n\u001b[0;32m   1155\u001b[0m \u001b[43m    \u001b[49m\u001b[43mensure_2d\u001b[49m\u001b[38;5;241;43m=\u001b[39;49m\u001b[43mensure_2d\u001b[49m\u001b[43m,\u001b[49m\n\u001b[0;32m   1156\u001b[0m \u001b[43m    \u001b[49m\u001b[43mallow_nd\u001b[49m\u001b[38;5;241;43m=\u001b[39;49m\u001b[43mallow_nd\u001b[49m\u001b[43m,\u001b[49m\n\u001b[0;32m   1157\u001b[0m \u001b[43m    \u001b[49m\u001b[43mensure_min_samples\u001b[49m\u001b[38;5;241;43m=\u001b[39;49m\u001b[43mensure_min_samples\u001b[49m\u001b[43m,\u001b[49m\n\u001b[0;32m   1158\u001b[0m \u001b[43m    \u001b[49m\u001b[43mensure_min_features\u001b[49m\u001b[38;5;241;43m=\u001b[39;49m\u001b[43mensure_min_features\u001b[49m\u001b[43m,\u001b[49m\n\u001b[0;32m   1159\u001b[0m \u001b[43m    \u001b[49m\u001b[43mestimator\u001b[49m\u001b[38;5;241;43m=\u001b[39;49m\u001b[43mestimator\u001b[49m\u001b[43m,\u001b[49m\n\u001b[0;32m   1160\u001b[0m \u001b[43m    \u001b[49m\u001b[43minput_name\u001b[49m\u001b[38;5;241;43m=\u001b[39;49m\u001b[38;5;124;43m\"\u001b[39;49m\u001b[38;5;124;43mX\u001b[39;49m\u001b[38;5;124;43m\"\u001b[39;49m\u001b[43m,\u001b[49m\n\u001b[0;32m   1161\u001b[0m \u001b[43m\u001b[49m\u001b[43m)\u001b[49m\n\u001b[0;32m   1163\u001b[0m y \u001b[38;5;241m=\u001b[39m _check_y(y, multi_output\u001b[38;5;241m=\u001b[39mmulti_output, y_numeric\u001b[38;5;241m=\u001b[39my_numeric, estimator\u001b[38;5;241m=\u001b[39mestimator)\n\u001b[0;32m   1165\u001b[0m check_consistent_length(X, y)\n",
      "File \u001b[1;32m~\\anaconda3\\lib\\site-packages\\sklearn\\utils\\validation.py:959\u001b[0m, in \u001b[0;36mcheck_array\u001b[1;34m(array, accept_sparse, accept_large_sparse, dtype, order, copy, force_all_finite, ensure_2d, allow_nd, ensure_min_samples, ensure_min_features, estimator, input_name)\u001b[0m\n\u001b[0;32m    953\u001b[0m         \u001b[38;5;28;01mraise\u001b[39;00m \u001b[38;5;167;01mValueError\u001b[39;00m(\n\u001b[0;32m    954\u001b[0m             \u001b[38;5;124m\"\u001b[39m\u001b[38;5;124mFound array with dim \u001b[39m\u001b[38;5;132;01m%d\u001b[39;00m\u001b[38;5;124m. \u001b[39m\u001b[38;5;132;01m%s\u001b[39;00m\u001b[38;5;124m expected <= 2.\u001b[39m\u001b[38;5;124m\"\u001b[39m\n\u001b[0;32m    955\u001b[0m             \u001b[38;5;241m%\u001b[39m (array\u001b[38;5;241m.\u001b[39mndim, estimator_name)\n\u001b[0;32m    956\u001b[0m         )\n\u001b[0;32m    958\u001b[0m     \u001b[38;5;28;01mif\u001b[39;00m force_all_finite:\n\u001b[1;32m--> 959\u001b[0m         \u001b[43m_assert_all_finite\u001b[49m\u001b[43m(\u001b[49m\n\u001b[0;32m    960\u001b[0m \u001b[43m            \u001b[49m\u001b[43marray\u001b[49m\u001b[43m,\u001b[49m\n\u001b[0;32m    961\u001b[0m \u001b[43m            \u001b[49m\u001b[43minput_name\u001b[49m\u001b[38;5;241;43m=\u001b[39;49m\u001b[43minput_name\u001b[49m\u001b[43m,\u001b[49m\n\u001b[0;32m    962\u001b[0m \u001b[43m            \u001b[49m\u001b[43mestimator_name\u001b[49m\u001b[38;5;241;43m=\u001b[39;49m\u001b[43mestimator_name\u001b[49m\u001b[43m,\u001b[49m\n\u001b[0;32m    963\u001b[0m \u001b[43m            \u001b[49m\u001b[43mallow_nan\u001b[49m\u001b[38;5;241;43m=\u001b[39;49m\u001b[43mforce_all_finite\u001b[49m\u001b[43m \u001b[49m\u001b[38;5;241;43m==\u001b[39;49m\u001b[43m \u001b[49m\u001b[38;5;124;43m\"\u001b[39;49m\u001b[38;5;124;43mallow-nan\u001b[39;49m\u001b[38;5;124;43m\"\u001b[39;49m\u001b[43m,\u001b[49m\n\u001b[0;32m    964\u001b[0m \u001b[43m        \u001b[49m\u001b[43m)\u001b[49m\n\u001b[0;32m    966\u001b[0m \u001b[38;5;28;01mif\u001b[39;00m ensure_min_samples \u001b[38;5;241m>\u001b[39m \u001b[38;5;241m0\u001b[39m:\n\u001b[0;32m    967\u001b[0m     n_samples \u001b[38;5;241m=\u001b[39m _num_samples(array)\n",
      "File \u001b[1;32m~\\anaconda3\\lib\\site-packages\\sklearn\\utils\\validation.py:124\u001b[0m, in \u001b[0;36m_assert_all_finite\u001b[1;34m(X, allow_nan, msg_dtype, estimator_name, input_name)\u001b[0m\n\u001b[0;32m    121\u001b[0m \u001b[38;5;28;01mif\u001b[39;00m first_pass_isfinite:\n\u001b[0;32m    122\u001b[0m     \u001b[38;5;28;01mreturn\u001b[39;00m\n\u001b[1;32m--> 124\u001b[0m \u001b[43m_assert_all_finite_element_wise\u001b[49m\u001b[43m(\u001b[49m\n\u001b[0;32m    125\u001b[0m \u001b[43m    \u001b[49m\u001b[43mX\u001b[49m\u001b[43m,\u001b[49m\n\u001b[0;32m    126\u001b[0m \u001b[43m    \u001b[49m\u001b[43mxp\u001b[49m\u001b[38;5;241;43m=\u001b[39;49m\u001b[43mxp\u001b[49m\u001b[43m,\u001b[49m\n\u001b[0;32m    127\u001b[0m \u001b[43m    \u001b[49m\u001b[43mallow_nan\u001b[49m\u001b[38;5;241;43m=\u001b[39;49m\u001b[43mallow_nan\u001b[49m\u001b[43m,\u001b[49m\n\u001b[0;32m    128\u001b[0m \u001b[43m    \u001b[49m\u001b[43mmsg_dtype\u001b[49m\u001b[38;5;241;43m=\u001b[39;49m\u001b[43mmsg_dtype\u001b[49m\u001b[43m,\u001b[49m\n\u001b[0;32m    129\u001b[0m \u001b[43m    \u001b[49m\u001b[43mestimator_name\u001b[49m\u001b[38;5;241;43m=\u001b[39;49m\u001b[43mestimator_name\u001b[49m\u001b[43m,\u001b[49m\n\u001b[0;32m    130\u001b[0m \u001b[43m    \u001b[49m\u001b[43minput_name\u001b[49m\u001b[38;5;241;43m=\u001b[39;49m\u001b[43minput_name\u001b[49m\u001b[43m,\u001b[49m\n\u001b[0;32m    131\u001b[0m \u001b[43m\u001b[49m\u001b[43m)\u001b[49m\n",
      "File \u001b[1;32m~\\anaconda3\\lib\\site-packages\\sklearn\\utils\\validation.py:173\u001b[0m, in \u001b[0;36m_assert_all_finite_element_wise\u001b[1;34m(X, xp, allow_nan, msg_dtype, estimator_name, input_name)\u001b[0m\n\u001b[0;32m    156\u001b[0m \u001b[38;5;28;01mif\u001b[39;00m estimator_name \u001b[38;5;129;01mand\u001b[39;00m input_name \u001b[38;5;241m==\u001b[39m \u001b[38;5;124m\"\u001b[39m\u001b[38;5;124mX\u001b[39m\u001b[38;5;124m\"\u001b[39m \u001b[38;5;129;01mand\u001b[39;00m has_nan_error:\n\u001b[0;32m    157\u001b[0m     \u001b[38;5;66;03m# Improve the error message on how to handle missing values in\u001b[39;00m\n\u001b[0;32m    158\u001b[0m     \u001b[38;5;66;03m# scikit-learn.\u001b[39;00m\n\u001b[0;32m    159\u001b[0m     msg_err \u001b[38;5;241m+\u001b[39m\u001b[38;5;241m=\u001b[39m (\n\u001b[0;32m    160\u001b[0m         \u001b[38;5;124mf\u001b[39m\u001b[38;5;124m\"\u001b[39m\u001b[38;5;130;01m\\n\u001b[39;00m\u001b[38;5;132;01m{\u001b[39;00mestimator_name\u001b[38;5;132;01m}\u001b[39;00m\u001b[38;5;124m does not accept missing values\u001b[39m\u001b[38;5;124m\"\u001b[39m\n\u001b[0;32m    161\u001b[0m         \u001b[38;5;124m\"\u001b[39m\u001b[38;5;124m encoded as NaN natively. For supervised learning, you might want\u001b[39m\u001b[38;5;124m\"\u001b[39m\n\u001b[1;32m   (...)\u001b[0m\n\u001b[0;32m    171\u001b[0m         \u001b[38;5;124m\"\u001b[39m\u001b[38;5;124m#estimators-that-handle-nan-values\u001b[39m\u001b[38;5;124m\"\u001b[39m\n\u001b[0;32m    172\u001b[0m     )\n\u001b[1;32m--> 173\u001b[0m \u001b[38;5;28;01mraise\u001b[39;00m \u001b[38;5;167;01mValueError\u001b[39;00m(msg_err)\n",
      "\u001b[1;31mValueError\u001b[0m: Input X contains NaN.\nKNeighborsClassifier does not accept missing values encoded as NaN natively. For supervised learning, you might want to consider sklearn.ensemble.HistGradientBoostingClassifier and Regressor which accept missing values encoded as NaNs natively. Alternatively, it is possible to preprocess the data, for instance by using an imputer transformer in a pipeline or drop samples with missing values. See https://scikit-learn.org/stable/modules/impute.html You can find a list of all estimators that handle NaN values at the following page: https://scikit-learn.org/stable/modules/impute.html#estimators-that-handle-nan-values"
     ]
    }
   ],
   "source": [
    "# storing the input values in the X variable\n",
    "X = df.iloc[:,1:].values\n",
    "# storing all the ouputs in y variable\n",
    "y = df.iloc[:,0].values\n",
    "\n",
    "# Split in training and testing\n",
    "from sklearn.model_selection import train_test_split\n",
    "X_train, X_test, y_train, y_test = train_test_split(X, y, test_size=0.2)\n",
    "\n",
    "# applying standard scale method\n",
    "from sklearn.preprocessing import StandardScaler\n",
    "sc = StandardScaler()\n",
    "\n",
    "# scaling training and testing data set\n",
    "X_train = sc.fit_transform(X_train)\n",
    "X_test = sc.transform(X_test)\n",
    "\n",
    "# importing KNN algorithm\n",
    "from sklearn.neighbors import KNeighborsClassifier\n",
    "\n",
    "# K value set to be 5\n",
    "KNN_classifier = KNeighborsClassifier(n_neighbors=5)\n",
    "\n",
    "# model training\n",
    "KNN_classifier.fit(X_train,y_train)\n",
    "\n",
    "# testing the model\n",
    "y_pred= KNN_classifier.predict(X_test)\n",
    "\n",
    "# importing accuracy_score\n",
    "from sklearn.metrics import accuracy_score\n",
    "\n",
    "# printing accuracy\n",
    "knn_accuracy = accuracy_score(y_test,y_pred)\n",
    "print(accuracy_score(y_test,y_pred))"
   ]
  },
  {
   "cell_type": "code",
   "execution_count": null,
   "id": "dc513824",
   "metadata": {
    "id": "dc513824",
    "outputId": "ea1d60c8-632f-4d87-f85e-3f2b96e83f41"
   },
   "outputs": [
    {
     "name": "stdout",
     "output_type": "stream",
     "text": [
      "[[42331  1342]\n",
      " [ 4775  2288]]\n"
     ]
    },
    {
     "data": {
      "image/png": "[encoded data removed]",
      "text/plain": [
       "<Figure size 640x480 with 2 Axes>"
      ]
     },
     "metadata": {},
     "output_type": "display_data"
    }
   ],
   "source": [
    "# Making the Confusion Matrix\n",
    "from sklearn.metrics import confusion_matrix\n",
    "# providing actual and predicted values\n",
    "cm = confusion_matrix(y_test, y_pred)\n",
    "# If True, write the data value in each cell\n",
    "sns.heatmap(cm,annot=True)\n",
    "\n",
    "# saving confusion matrix in png form\n",
    "#plt.savefig('confusion_Matrix.png')\n",
    "\n",
    "print(cm)"
   ]
  },
  {
   "cell_type": "code",
   "execution_count": null,
   "id": "69321c60",
   "metadata": {
    "id": "69321c60",
    "outputId": "13731258-11ea-42a5-9b4f-644571b9b57e"
   },
   "outputs": [
    {
     "name": "stdout",
     "output_type": "stream",
     "text": [
      "              precision    recall  f1-score   support\n",
      "\n",
      "           0       0.88      0.95      0.91     43687\n",
      "           1       0.40      0.21      0.28      7049\n",
      "\n",
      "    accuracy                           0.85     50736\n",
      "   macro avg       0.64      0.58      0.60     50736\n",
      "weighted avg       0.81      0.85      0.83     50736\n",
      "\n"
     ]
    }
   ],
   "source": [
    "# finding the whole report\n",
    "from sklearn.metrics import classification_report\n",
    "\n",
    "# Print the classification report\n",
    "report = classification_report(y_test, y_pred, digits=3)\n",
    "print(report)\n",
    "\n",
    "# Split the report by newlines\n",
    "lines = report.split('\\n')\n",
    "\n",
    "# Find the line containing the overall metrics\n",
    "overall_metrics_line = lines[-2]\n",
    "\n",
    "# Split the line by spaces\n",
    "metrics = overall_metrics_line.split()\n",
    "\n",
    "# Extract the precision, recall, and F1-score\n",
    "knn_precision = float(metrics[2])\n",
    "knn_recall = float(metrics[3])\n",
    "knn_f1_score = float(metrics[4])\n",
    "\n",
    "# Print the overall metrics\n",
    "print(\"Overall Precision:\", knn_precision)\n",
    "print(\"Overall Recall:\", knn_recall)\n",
    "print(\"Overall F1-score:\", knn_f1_score)"
   ]
  },
  {
   "cell_type": "markdown",
   "id": "e4051c0e",
   "metadata": {
    "id": "e4051c0e"
   },
   "source": [
    "## **5.2) Naive Bayes Model**\n",
    "\n"
   ]
  },
  {
   "cell_type": "code",
   "execution_count": null,
   "id": "45e188e5",
   "metadata": {
    "id": "45e188e5"
   },
   "outputs": [],
   "source": [
    "#training and testing data\n",
    "from sklearn.model_selection import train_test_split\n",
    "\n",
    "#assign test data size 80%(testing)\n",
    "x_train, x_test, y_train, y_test = train_test_split(X,y, test_size = 0.7, random_state = 0)\n",
    "\n",
    "#importing standard scaler\n",
    "from sklearn.preprocessing import StandardScaler\n",
    "\n",
    "#scalling the input data\n",
    "sc_x = StandardScaler()\n",
    "x_train = sc_x.fit_transform(x_train)\n",
    "x_test = sc_x.fit_transform(x_test)\n",
    "\n",
    "#training the model using BERNOULLI NAIVE BAYES CLASSIFIER\n",
    "#import classifier\n",
    "from sklearn.naive_bayes import BernoulliNB\n",
    "\n",
    "#initializating the NB\n",
    "nb_classifier = BernoulliNB()\n",
    "\n",
    "#training the model\n",
    "nb_classifier.fit (x_train,y_train)\n",
    "\n",
    "#testing the model\n",
    "y_pred = nb_classifier.predict(x_test)\n",
    "\n",
    "#importing accuracy score\n",
    "from sklearn.metrics import accuracy_score\n",
    "\n",
    "#printing the accuracy of the model\n",
    "nb_accuracy = accuracy_score(y_pred, y_test)\n",
    "print(nb_accuracy)"
   ]
  },
  {
   "cell_type": "code",
   "execution_count": null,
   "id": "c8b00919",
   "metadata": {
    "id": "c8b00919",
    "outputId": "7ac420a7-6357-4785-a2a3-da3bd86ea1fd"
   },
   "outputs": [
    {
     "name": "stdout",
     "output_type": "stream",
     "text": [
      "[[151840  22716]\n",
      " [ 14618  13770]]\n"
     ]
    },
    {
     "data": {
      "image/png": "[encoded data removed]",
      "text/plain": [
       "<Figure size 640x480 with 2 Axes>"
      ]
     },
     "metadata": {},
     "output_type": "display_data"
    }
   ],
   "source": [
    "#evaluation of BERNOULLI NAIVE BAYES CLASSIFIER\n",
    "\n",
    "#importing the require modules\n",
    "import seaborn as sns\n",
    "from sklearn.metrics import confusion_matrix\n",
    "\n",
    "#passing actual and predicted values\n",
    "cm = confusion_matrix(y_test, y_pred)\n",
    "\n",
    "#true write data values in each cell of the matrix\n",
    "sns.heatmap(cm, annot = True)\n",
    "\n",
    "print(cm)"
   ]
  },
  {
   "cell_type": "code",
   "execution_count": null,
   "id": "38692310",
   "metadata": {
    "id": "38692310",
    "outputId": "6ffb6058-76ef-46c7-f5f5-cdbc626c6072"
   },
   "outputs": [
    {
     "name": "stdout",
     "output_type": "stream",
     "text": [
      "              precision    recall  f1-score   support\n",
      "\n",
      "           0       0.91      0.87      0.89    174556\n",
      "           1       0.38      0.49      0.42     28388\n",
      "\n",
      "    accuracy                           0.82    202944\n",
      "   macro avg       0.64      0.68      0.66    202944\n",
      "weighted avg       0.84      0.82      0.83    202944\n",
      "\n"
     ]
    }
   ],
   "source": [
    "# finding the whole report\n",
    "from sklearn.metrics import classification_report\n",
    "\n",
    "# Print the classification report\n",
    "report = classification_report(y_test, y_pred, digits=3)\n",
    "print(report)\n",
    "\n",
    "# Split the report by newlines\n",
    "lines = report.split('\\n')\n",
    "\n",
    "# Find the line containing the overall metrics\n",
    "overall_metrics_line = lines[-2]\n",
    "\n",
    "# Split the line by spaces\n",
    "metrics = overall_metrics_line.split()\n",
    "\n",
    "# Extract the precision, recall, and F1-score\n",
    "nb_precision = float(metrics[2])\n",
    "nb_recall = float(metrics[3])\n",
    "nb_f1_score = float(metrics[4])\n",
    "\n",
    "# Print the overall metrics\n",
    "print(\"Overall Precision:\", nb_precision)\n",
    "print(\"Overall Recall:\", nb_recall)\n",
    "print(\"Overall F1-score:\", nb_f1_score)"
   ]
  },
  {
   "cell_type": "markdown",
   "id": "31367ec4",
   "metadata": {
    "id": "31367ec4"
   },
   "source": [
    "## **5.3) Decision Tree Model**"
   ]
  },
  {
   "cell_type": "code",
   "execution_count": null,
   "id": "04ac889e",
   "metadata": {
    "id": "04ac889e",
    "outputId": "35fca762-845a-4e65-9762-a93406200079"
   },
   "outputs": [
    {
     "ename": "NameError",
     "evalue": "name 'train_test_split' is not defined",
     "output_type": "error",
     "traceback": [
      "\u001b[1;31m---------------------------------------------------------------------------\u001b[0m",
      "\u001b[1;31mNameError\u001b[0m                                 Traceback (most recent call last)",
      "Cell \u001b[1;32mIn[38], line 2\u001b[0m\n\u001b[0;32m      1\u001b[0m \u001b[38;5;66;03m# Split dataset into training set and test set\u001b[39;00m\n\u001b[1;32m----> 2\u001b[0m X_train, X_test, y_train, y_test \u001b[38;5;241m=\u001b[39m \u001b[43mtrain_test_split\u001b[49m(x, y, test_size\u001b[38;5;241m=\u001b[39m\u001b[38;5;241m0.3\u001b[39m,random_state\u001b[38;5;241m=\u001b[39m\u001b[38;5;241m1\u001b[39m)\n",
      "\u001b[1;31mNameError\u001b[0m: name 'train_test_split' is not defined"
     ]
    }
   ],
   "source": [
    "# Split dataset into training set and test set\n",
    "X_train, X_test, y_train, y_test = train_test_split(X, y, test_size=0.2,random_state=1) # 70% training and 30% test\n",
    "\n",
    "# Create Decision Tree classifer object\n",
    "from sklearn.tree import DecisionTreeClassifier # Import Decision Tree Classifier\n",
    "dt_classifier = DecisionTreeClassifier()\n",
    "\n",
    "#scalling the input data\n",
    "sc_x = StandardScaler()\n",
    "x_train = sc_x.fit_transform(x_train)\n",
    "x_test = sc_x.fit_transform(x_test)\n",
    "\n",
    "# Train Decision Tree Classifer\n",
    "dt_classifier = dt_classifier.fit(X_train,y_train)\n",
    "\n",
    "#Predict the response for test dataset\n",
    "y_pred = dt_classifier.predict(X_test)\n",
    "\n",
    "# importing accuracy_score\n",
    "from sklearn.metrics import accuracy_score\n",
    "\n",
    "# printing accuracy\n",
    "dt_accuracy = accuracy_score(y_test,y_pred)\n",
    "print(accuracy_score(y_test,y_pred))"
   ]
  },
  {
   "cell_type": "code",
   "execution_count": null,
   "id": "81d0d97c",
   "metadata": {
    "id": "81d0d97c",
    "outputId": "e865b0a6-06c6-478a-d0f2-89209b467122"
   },
   "outputs": [
    {
     "data": {
      "text/plain": [
       "<sklearn.metrics._plot.confusion_matrix.ConfusionMatrixDisplay at 0x29408b266e0>"
      ]
     },
     "execution_count": 347,
     "metadata": {},
     "output_type": "execute_result"
    },
    {
     "data": {
      "image/png": "[encoded data removed]",
      "text/plain": [
       "<Figure size 640x480 with 2 Axes>"
      ]
     },
     "metadata": {},
     "output_type": "display_data"
    }
   ],
   "source": [
    "# Calculate the confusion matrix\n",
    "cm = confusion_matrix(y_test, y_pred,labels=dt_classifier.classes_)\n",
    "\n",
    "# Plot the confusion matrix with labels\n",
    "from sklearn.metrics import confusion_matrix, ConfusionMatrixDisplay\n",
    "disp = ConfusionMatrixDisplay(confusion_matrix=cm, display_labels=dt_classifier.classes_)\n",
    "disp.plot()"
   ]
  },
  {
   "cell_type": "code",
   "execution_count": null,
   "id": "71f73b1c",
   "metadata": {
    "id": "71f73b1c"
   },
   "outputs": [],
   "source": [
    "# finding the whole report\n",
    "from sklearn.metrics import classification_report\n",
    "\n",
    "# Print the classification report\n",
    "report = classification_report(y_test, y_pred, digits=4)\n",
    "print(report)\n",
    "\n",
    "# Split the report by newlines\n",
    "lines = report.split('\\n')\n",
    "\n",
    "# Find the line containing the overall metrics\n",
    "overall_metrics_line = lines[-2]\n",
    "\n",
    "# Split the line by spaces\n",
    "metrics = overall_metrics_line.split()\n",
    "\n",
    "# Extract the precision, recall, and F1-score\n",
    "dt_precision = float(metrics[2])\n",
    "dt_recall = float(metrics[3])\n",
    "dt_f1_score = float(metrics[4])\n",
    "\n",
    "# Print the overall metrics\n",
    "print(\"Overall Precision:\", dt_precision)\n",
    "print(\"Overall Recall:\", dt_recall)\n",
    "print(\"Overall F1-score:\", dt_f1_score)"
   ]
  },
  {
   "cell_type": "markdown",
   "id": "s2YMWyufb0Hm",
   "metadata": {
    "id": "s2YMWyufb0Hm"
   },
   "source": [
    "# 6) Deploy Model"
   ]
  },
  {
   "cell_type": "code",
   "execution_count": null,
   "id": "094bb753",
   "metadata": {
    "id": "094bb753",
    "outputId": "4a8aadd2-5af8-4e81-ddd4-308f998a4564"
   },
   "outputs": [
    {
     "name": "stdout",
     "output_type": "stream",
     "text": [
      "KNN model saved with accuracy: 0.8794347209082308\n"
     ]
    }
   ],
   "source": [
    "import pickle\n",
    "\n",
    "# Dictionary to store model results\n",
    "model_results = {}\n",
    "\n",
    "if dt_accuracy > nb_accuracy and dt_accuracy > knn_accuracy:\n",
    "    # Save the Decision model\n",
    "    model_name = 'Decision Tree'\n",
    "    model = dt_classifier\n",
    "    accuracy = dt_accuracy\n",
    "    precision = dt_precision\n",
    "    f1score = dt_f1_score\n",
    "    recall = dt_recall\n",
    "    print(\"Decision model saved with accuracy:\", decision_accuracy)\n",
    "elif nb_accuracy > dt_accuracy and nb_accuracy > knn_accuracy:\n",
    "    # Save the Naive Bayes model\n",
    "    model_name = 'Naive Bayes'\n",
    "    model = nb_classifier\n",
    "    accuracy = nb_accuracy\n",
    "    precision = nb_precision\n",
    "    f1score = nb_f1_score\n",
    "    recall = nb_recall\n",
    "    print(\"Naive Bayes model saved with accuracy:\", nb_accuracy)\n",
    "else:\n",
    "    # Save the KNN model\n",
    "    model_name = 'KNN'\n",
    "    model = KNN_classifier\n",
    "    accuracy = knn_accuracy\n",
    "    precision = knn_precision\n",
    "    f1score = knn_f1_score\n",
    "    recall = knn_recall\n",
    "    print(\"KNN model saved with accuracy:\", knn_accuracy)\n",
    "\n",
    "# Save the model\n",
    "filename = 'model.sav'\n",
    "pickle.dump(model, open(filename, 'wb'))\n",
    "\n",
    "# Store model results in dictionary\n",
    "model_results = {\n",
    "    'accuracy': accuracy,\n",
    "    'precision': precision,\n",
    "    'f1score': f1score,\n",
    "    'recall': recall,\n",
    "    'model_name': model_name,\n",
    "    'knn': {\n",
    "        'accuracy': knn_accuracy,\n",
    "        'precision': knn_precision,\n",
    "        'f1score': knn_f1_score,\n",
    "        'recall': knn_recall,\n",
    "    },\n",
    "    'dt': {\n",
    "        'accuracy': dt_accuracy,\n",
    "        'precision': dt_precision,\n",
    "        'f1score': dt_f1_score,\n",
    "        'recall': dt_recall,\n",
    "    },\n",
    "    'nb': {\n",
    "        'accuracy': nb_accuracy,\n",
    "        'precision': nb_precision,\n",
    "        'f1score': nb_f1_score,\n",
    "        'recall': nb_recall,\n",
    "    }\n",
    "}\n",
    "\n",
    "# Save accuracy and precision separately\n",
    "pickle.dump(model_results, open('model_results.sav', 'wb'))\n",
    "\n",
    "# Save individual models\n",
    "pickle.dump(nb_classifier, open('NB.sav', 'wb'))\n",
    "pickle.dump(dt_classifier, open('DT.sav', 'wb'))\n",
    "pickle.dump(KNN_classifier, open('KNN.sav', 'wb'))"
   ]
  },
  {
   "cell_type": "code",
   "execution_count": null,
   "id": "7b3f53c1",
   "metadata": {
    "id": "7b3f53c1"
   },
   "outputs": [],
   "source": []
  }
 ],
 "metadata": {
  "colab": {
   "collapsed_sections": [
    "v_PABcsBNBeY"
   ],
   "provenance": [],
   "toc_visible": true
  },
  "kernelspec": {
   "display_name": "Python 3 (ipykernel)",
   "language": "python",
   "name": "python3"
  },
  "language_info": {
   "codemirror_mode": {
    "name": "ipython",
    "version": 3
   },
   "file_extension": ".py",
   "mimetype": "text/x-python",
   "name": "python",
   "nbconvert_exporter": "python",
   "pygments_lexer": "ipython3",
   "version": "3.10.9"
  }
 },
 "nbformat": 4,
 "nbformat_minor": 5
}
